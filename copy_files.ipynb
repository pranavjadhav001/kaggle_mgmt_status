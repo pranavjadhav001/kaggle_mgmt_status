{
 "cells": [
  {
   "cell_type": "code",
   "execution_count": 3,
   "id": "accepted-rhythm",
   "metadata": {},
   "outputs": [],
   "source": [
    "import shutil\n",
    "import os\n",
    "import glob"
   ]
  },
  {
   "cell_type": "code",
   "execution_count": 6,
   "id": "developing-dallas",
   "metadata": {},
   "outputs": [],
   "source": [
    "base = 'FilteredData/train/'\n",
    "for root,dirs,files in os.walk(base):\n",
    "    root = root.replace('\\\\','/')\n",
    "    items = root.split('/')\n",
    "    if len(items) >= 4: \n",
    "        pat_id = items[2]\n",
    "        modality = items[3]\n",
    "        if modality != 'nontumor':\n",
    "            continue\n",
    "        outpath = root.replace(modality,'nontumor_FLAIR')\n",
    "        os.makedirs(outpath, exist_ok=True)\n",
    "            \n",
    "    for file in files:\n",
    "        if 'FLAIR' in file:\n",
    "            fullpath = os.path.join(root,file)\n",
    "            shutil.copyfile(fullpath, os.path.join(outpath,file))\n",
    "        "
   ]
  },
  {
   "cell_type": "code",
   "execution_count": null,
   "id": "selected-academy",
   "metadata": {},
   "outputs": [],
   "source": []
  }
 ],
 "metadata": {
  "kernelspec": {
   "display_name": "Python 3",
   "language": "python",
   "name": "python3"
  },
  "language_info": {
   "codemirror_mode": {
    "name": "ipython",
    "version": 3
   },
   "file_extension": ".py",
   "mimetype": "text/x-python",
   "name": "python",
   "nbconvert_exporter": "python",
   "pygments_lexer": "ipython3",
   "version": "3.6.6"
  }
 },
 "nbformat": 4,
 "nbformat_minor": 5
}
