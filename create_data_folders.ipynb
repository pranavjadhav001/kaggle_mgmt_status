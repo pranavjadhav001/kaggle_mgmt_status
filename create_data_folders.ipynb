{
 "cells": [
  {
   "cell_type": "code",
   "execution_count": 1,
   "id": "stock-ghana",
   "metadata": {},
   "outputs": [],
   "source": [
    "import shutil\n",
    "import os\n",
    "import glob"
   ]
  },
  {
   "cell_type": "code",
   "execution_count": 8,
   "id": "restricted-analyst",
   "metadata": {},
   "outputs": [],
   "source": [
    "base_dirs = 'FilteredTrainData'\n",
    "tumorout = 'FilteredTrainDataNew/Tumor'\n",
    "notumorout = 'FilteredTrainDataNew/NoTumor'\n",
    "os.makedirs(tumorout,exist_ok=True)\n",
    "os.makedirs(notumorout,exist_ok=True)"
   ]
  },
  {
   "cell_type": "code",
   "execution_count": 9,
   "id": "smooth-benjamin",
   "metadata": {
    "scrolled": true
   },
   "outputs": [],
   "source": [
    "for root,dirs,files in os.walk(base_dirs):\n",
    "    root = root.replace('\\\\','/')\n",
    "    items = root.split('/')\n",
    "    #print(items)\n",
    "    if len(items) > 2:\n",
    "        patid = items[1]\n",
    "        label = items[2]\n",
    "        if label.lower() == 'flair':\n",
    "            outdir = tumorout\n",
    "        else:\n",
    "            outdir = notumorout\n",
    "            \n",
    "        for file in files:\n",
    "            fullpath = os.path.join(root,file)\n",
    "            outpath = os.path.join(outdir,f\"{patid}_{file}\")\n",
    "            shutil.copyfile(fullpath, outpath)"
   ]
  },
  {
   "cell_type": "code",
   "execution_count": null,
   "id": "minimal-transfer",
   "metadata": {},
   "outputs": [],
   "source": []
  }
 ],
 "metadata": {
  "kernelspec": {
   "display_name": "Python 3",
   "language": "python",
   "name": "python3"
  },
  "language_info": {
   "codemirror_mode": {
    "name": "ipython",
    "version": 3
   },
   "file_extension": ".py",
   "mimetype": "text/x-python",
   "name": "python",
   "nbconvert_exporter": "python",
   "pygments_lexer": "ipython3",
   "version": "3.6.6"
  }
 },
 "nbformat": 4,
 "nbformat_minor": 5
}
