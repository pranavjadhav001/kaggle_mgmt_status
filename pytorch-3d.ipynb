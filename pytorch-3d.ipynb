{
 "cells": [
  {
   "cell_type": "code",
   "execution_count": 1,
   "id": "1fc9891e",
   "metadata": {
    "execution": {
     "iopub.execute_input": "2021-10-06T08:21:38.344207Z",
     "iopub.status.busy": "2021-10-06T08:21:38.342657Z",
     "iopub.status.idle": "2021-10-06T08:21:56.509517Z",
     "shell.execute_reply": "2021-10-06T08:21:56.508918Z",
     "shell.execute_reply.started": "2021-10-06T08:19:00.567795Z"
    },
    "papermill": {
     "duration": 18.190012,
     "end_time": "2021-10-06T08:21:56.509672",
     "exception": false,
     "start_time": "2021-10-06T08:21:38.319660",
     "status": "completed"
    },
    "tags": []
   },
   "outputs": [
    {
     "name": "stdout",
     "output_type": "stream",
     "text": [
      "Collecting git+https://github.com/shijianjian/EfficientNet-PyTorch-3D\r\n",
      "  Cloning https://github.com/shijianjian/EfficientNet-PyTorch-3D to /tmp/pip-req-build-b6dropls\r\n",
      "  Running command git clone -q https://github.com/shijianjian/EfficientNet-PyTorch-3D /tmp/pip-req-build-b6dropls\r\n",
      "  Resolved https://github.com/shijianjian/EfficientNet-PyTorch-3D to commit 3e79bcd06216b2e831bf3300fff9636cce2cd0d1\r\n",
      "Requirement already satisfied: torch in /opt/conda/lib/python3.7/site-packages (from efficientnet-pytorch-3d==0.6.3) (1.7.1+cu110)\r\n",
      "Requirement already satisfied: typing-extensions in /opt/conda/lib/python3.7/site-packages (from torch->efficientnet-pytorch-3d==0.6.3) (3.7.4.3)\r\n",
      "Requirement already satisfied: numpy in /opt/conda/lib/python3.7/site-packages (from torch->efficientnet-pytorch-3d==0.6.3) (1.19.5)\r\n",
      "Building wheels for collected packages: efficientnet-pytorch-3d\r\n",
      "  Building wheel for efficientnet-pytorch-3d (setup.py) ... \u001b[?25l-\b \b\\\b \bdone\r\n",
      "\u001b[?25h  Created wheel for efficientnet-pytorch-3d: filename=efficientnet_pytorch_3d-0.6.3-py3-none-any.whl size=16770 sha256=1f1c9473c879b68b271fd982301fc66b05bd3354cdb4b8278c453bbb8cb1d561\r\n",
      "  Stored in directory: /tmp/pip-ephem-wheel-cache-ghyem5ql/wheels/ea/44/3d/89ce0e32ed262cff6c10d0586dc8f82bbb8ba1eeb47863abe5\r\n",
      "Successfully built efficientnet-pytorch-3d\r\n",
      "Installing collected packages: efficientnet-pytorch-3d\r\n",
      "Successfully installed efficientnet-pytorch-3d-0.6.3\r\n",
      "\u001b[33mWARNING: Running pip as the 'root' user can result in broken permissions and conflicting behaviour with the system package manager. It is recommended to use a virtual environment instead: https://pip.pypa.io/warnings/venv\u001b[0m\r\n",
      "Collecting torchsummary\r\n",
      "  Downloading torchsummary-1.5.1-py3-none-any.whl (2.8 kB)\r\n",
      "Installing collected packages: torchsummary\r\n",
      "Successfully installed torchsummary-1.5.1\r\n",
      "\u001b[33mWARNING: Running pip as the 'root' user can result in broken permissions and conflicting behaviour with the system package manager. It is recommended to use a virtual environment instead: https://pip.pypa.io/warnings/venv\u001b[0m\r\n"
     ]
    }
   ],
   "source": [
    "!pip3 install git+https://github.com/shijianjian/EfficientNet-PyTorch-3D\n",
    "!pip3 install torchsummary"
   ]
  },
  {
   "cell_type": "code",
   "execution_count": 2,
   "id": "4c1e9224",
   "metadata": {
    "execution": {
     "iopub.execute_input": "2021-10-06T08:21:56.555172Z",
     "iopub.status.busy": "2021-10-06T08:21:56.554274Z",
     "iopub.status.idle": "2021-10-06T08:22:00.782874Z",
     "shell.execute_reply": "2021-10-06T08:22:00.783366Z",
     "shell.execute_reply.started": "2021-10-06T08:20:54.670669Z"
    },
    "papermill": {
     "duration": 4.252508,
     "end_time": "2021-10-06T08:22:00.783538",
     "exception": false,
     "start_time": "2021-10-06T08:21:56.531030",
     "status": "completed"
    },
    "tags": []
   },
   "outputs": [],
   "source": [
    "from efficientnet_pytorch_3d import EfficientNet3D\n",
    "from torchsummary import summary"
   ]
  },
  {
   "cell_type": "code",
   "execution_count": 3,
   "id": "4c1bf113",
   "metadata": {
    "execution": {
     "iopub.execute_input": "2021-10-06T08:22:00.828546Z",
     "iopub.status.busy": "2021-10-06T08:22:00.827807Z",
     "iopub.status.idle": "2021-10-06T08:22:02.011091Z",
     "shell.execute_reply": "2021-10-06T08:22:02.010486Z",
     "shell.execute_reply.started": "2021-10-06T08:20:54.899344Z"
    },
    "papermill": {
     "duration": 1.208818,
     "end_time": "2021-10-06T08:22:02.011260",
     "exception": false,
     "start_time": "2021-10-06T08:22:00.802442",
     "status": "completed"
    },
    "tags": []
   },
   "outputs": [],
   "source": [
    "import torch\n",
    "import torchvision\n",
    "import numpy as np\n",
    "import pandas as pd\n",
    "import matplotlib.pyplot as plt\n",
    "import cv2\n",
    "import time\n",
    "import glob\n",
    "import os\n",
    "import torch\n",
    "from torch import nn\n",
    "import random\n",
    "from torch.utils import data as torch_data\n",
    "from sklearn import model_selection as sk_model_selection\n",
    "from torch.nn import functional as torch_functional\n",
    "import torch.nn.functional as F\n",
    "import pandas\n",
    "np.random.seed(1)\n",
    "torch.backends.cudnn.benchmark = True\n",
    "from torch.utils.tensorboard import SummaryWriter"
   ]
  },
  {
   "cell_type": "code",
   "execution_count": 4,
   "id": "d3d6cf06",
   "metadata": {
    "execution": {
     "iopub.execute_input": "2021-10-06T08:22:02.056139Z",
     "iopub.status.busy": "2021-10-06T08:22:02.055265Z",
     "iopub.status.idle": "2021-10-06T08:22:02.057677Z",
     "shell.execute_reply": "2021-10-06T08:22:02.057282Z",
     "shell.execute_reply.started": "2021-10-06T08:20:55.235388Z"
    },
    "papermill": {
     "duration": 0.026636,
     "end_time": "2021-10-06T08:22:02.057795",
     "exception": false,
     "start_time": "2021-10-06T08:22:02.031159",
     "status": "completed"
    },
    "tags": []
   },
   "outputs": [],
   "source": [
    "from tqdm import tqdm\n",
    "import math"
   ]
  },
  {
   "cell_type": "code",
   "execution_count": 5,
   "id": "90e7ff84",
   "metadata": {
    "execution": {
     "iopub.execute_input": "2021-10-06T08:22:02.101344Z",
     "iopub.status.busy": "2021-10-06T08:22:02.100732Z",
     "iopub.status.idle": "2021-10-06T08:22:02.145200Z",
     "shell.execute_reply": "2021-10-06T08:22:02.144638Z",
     "shell.execute_reply.started": "2021-10-06T08:20:55.585634Z"
    },
    "papermill": {
     "duration": 0.068653,
     "end_time": "2021-10-06T08:22:02.145364",
     "exception": false,
     "start_time": "2021-10-06T08:22:02.076711",
     "status": "completed"
    },
    "tags": []
   },
   "outputs": [],
   "source": [
    "def set_seed(seed):\n",
    "    random.seed(seed)\n",
    "    os.environ[\"PYTHONHASHSEED\"] = str(seed)\n",
    "    np.random.seed(seed)\n",
    "    torch.manual_seed(seed)\n",
    "    if torch.cuda.is_available():\n",
    "        torch.cuda.manual_seed_all(seed)\n",
    "        torch.backends.cudnn.deterministic = True\n",
    "\n",
    "set_seed(12)"
   ]
  },
  {
   "cell_type": "code",
   "execution_count": 6,
   "id": "98c6c0b9",
   "metadata": {
    "execution": {
     "iopub.execute_input": "2021-10-06T08:22:02.196743Z",
     "iopub.status.busy": "2021-10-06T08:22:02.196200Z",
     "iopub.status.idle": "2021-10-06T08:22:02.199872Z",
     "shell.execute_reply": "2021-10-06T08:22:02.199415Z",
     "shell.execute_reply.started": "2021-10-06T08:20:55.933624Z"
    },
    "papermill": {
     "duration": 0.034166,
     "end_time": "2021-10-06T08:22:02.199999",
     "exception": false,
     "start_time": "2021-10-06T08:22:02.165833",
     "status": "completed"
    },
    "tags": []
   },
   "outputs": [],
   "source": [
    "class sum_writer:\n",
    "    def __init__(self,folder):\n",
    "        if os.path.exists(folder):\n",
    "            print('Removing old events..')\n",
    "            for fil in os.listdir(folder):\n",
    "                os.remove(os.path.join(folder, fil))\n",
    "\n",
    "        self.writer =  SummaryWriter(folder)\n",
    "        \n",
    "    def close(self):\n",
    "        self.writer.flush()\n",
    "        self.writer.close()\n",
    "\n",
    "        \n",
    "    def add_info_new(self,msg,value1,value2):\n",
    "        self.writer.add_scalar(msg, value1, value2)\n",
    "        \n",
    "def get_lr(optimizer):\n",
    "    for param_group in optimizer.param_groups:\n",
    "        return param_group['lr']\n",
    "\n",
    "def save_models(e,model,out_path,name):\n",
    "    save = {'model':model.state_dict(),'epoch':e+1}\n",
    "    #torch.save(save, os.path.join(out_path, '%s_%s_e%02d.pth' % (name,time.strftime(\"%d-%m-%Y-%H-%M-%S\"), e+1)))\n",
    "    torch.save(save, os.path.join(out_path, '%s_e%02d.pth' % (name, e+1)))\n",
    "\n",
    "def accuracy(output, target, topk=(1,)):\n",
    "    \"\"\"Computes the accuracy@k for the specified values of k\"\"\"\n",
    "    maxk = max(topk)\n",
    "    batch_size = target.size(0)\n",
    "\n",
    "    _, pred = output.topk(maxk, 1, True, True)\n",
    "    pred = pred.t()\n",
    "    correct = pred.eq(target.view(1, -1).expand_as(pred))\n",
    "\n",
    "    res = []\n",
    "    for k in topk:\n",
    "        correct_k = correct[:k].view(-1).float().sum(0, keepdim=True)\n",
    "        res.append(correct_k.mul_(100.0 / batch_size))\n",
    "    return res"
   ]
  },
  {
   "cell_type": "code",
   "execution_count": 7,
   "id": "a3b513a7",
   "metadata": {
    "execution": {
     "iopub.execute_input": "2021-10-06T08:22:02.244368Z",
     "iopub.status.busy": "2021-10-06T08:22:02.239831Z",
     "iopub.status.idle": "2021-10-06T08:22:02.246328Z",
     "shell.execute_reply": "2021-10-06T08:22:02.246740Z",
     "shell.execute_reply.started": "2021-10-06T08:20:56.299517Z"
    },
    "papermill": {
     "duration": 0.028025,
     "end_time": "2021-10-06T08:22:02.246864",
     "exception": false,
     "start_time": "2021-10-06T08:22:02.218839",
     "status": "completed"
    },
    "tags": []
   },
   "outputs": [],
   "source": [
    "def get_all_slices(df,base_dir): \n",
    "    all_paths = []\n",
    "    for i in list(df['folder_id']):\n",
    "        i = os.path.join(base_dir,i)\n",
    "        all_paths.append(len(glob.glob(i+'/flair/*')))\n",
    "    return all_paths\n",
    "\n",
    "def split_train_test(slices_list,folders_list,label_list,split_ratio=0.1):\n",
    "    test_size = int(len(slices_list)*split_ratio)\n",
    "    test_slices_list = slices_list[:test_size]\n",
    "    test_folders_list = folders_list[:test_size]\n",
    "    test_label_list = label_list[:test_size]\n",
    "    train_slices_list = slices_list[test_size:]\n",
    "    train_folders_list = folders_list[test_size:]\n",
    "    train_label_list = label_list[test_size:]\n",
    "    return train_slices_list,train_folders_list,train_label_list,test_slices_list,test_folders_list,test_label_list\n",
    "\n"
   ]
  },
  {
   "cell_type": "code",
   "execution_count": 8,
   "id": "b58087b7",
   "metadata": {
    "execution": {
     "iopub.execute_input": "2021-10-06T08:22:02.288666Z",
     "iopub.status.busy": "2021-10-06T08:22:02.288155Z",
     "iopub.status.idle": "2021-10-06T08:22:02.318374Z",
     "shell.execute_reply": "2021-10-06T08:22:02.317798Z",
     "shell.execute_reply.started": "2021-10-06T08:20:56.650044Z"
    },
    "papermill": {
     "duration": 0.053042,
     "end_time": "2021-10-06T08:22:02.318494",
     "exception": false,
     "start_time": "2021-10-06T08:22:02.265452",
     "status": "completed"
    },
    "tags": []
   },
   "outputs": [],
   "source": [
    "df = pd.read_csv('../input/rsnasubmissionresult/result.csv',dtype='str')\n",
    "base_dir = '../input/classify-tumor-best/DATATUMORONLY_TRAIN/train'"
   ]
  },
  {
   "cell_type": "code",
   "execution_count": 9,
   "id": "7f24a411",
   "metadata": {
    "execution": {
     "iopub.execute_input": "2021-10-06T08:22:02.360901Z",
     "iopub.status.busy": "2021-10-06T08:22:02.360396Z",
     "iopub.status.idle": "2021-10-06T08:22:02.363877Z",
     "shell.execute_reply": "2021-10-06T08:22:02.363446Z",
     "shell.execute_reply.started": "2021-10-06T08:20:57.021577Z"
    },
    "papermill": {
     "duration": 0.02666,
     "end_time": "2021-10-06T08:22:02.364009",
     "exception": false,
     "start_time": "2021-10-06T08:22:02.337349",
     "status": "completed"
    },
    "tags": []
   },
   "outputs": [],
   "source": [
    "train_df = df.iloc[:525,:]\n",
    "test_df = df.iloc[526:,:]"
   ]
  },
  {
   "cell_type": "code",
   "execution_count": 10,
   "id": "9137a0c1",
   "metadata": {
    "execution": {
     "iopub.execute_input": "2021-10-06T08:22:02.414085Z",
     "iopub.status.busy": "2021-10-06T08:22:02.413528Z",
     "iopub.status.idle": "2021-10-06T08:22:07.647203Z",
     "shell.execute_reply": "2021-10-06T08:22:07.646299Z",
     "shell.execute_reply.started": "2021-10-06T08:20:57.298203Z"
    },
    "papermill": {
     "duration": 5.264236,
     "end_time": "2021-10-06T08:22:07.647344",
     "exception": false,
     "start_time": "2021-10-06T08:22:02.383108",
     "status": "completed"
    },
    "tags": []
   },
   "outputs": [],
   "source": [
    "train_slices_list = np.array(get_all_slices(train_df,base_dir))\n",
    "test_slices_list = np.array(get_all_slices(test_df,base_dir))\n",
    "#slices_list = np.array(list(df['flair']))\n",
    "train_folders_list = np.array(list(train_df['folder_id']))\n",
    "test_folders_list = np.array(list(test_df['folder_id']))\n",
    "train_label_list = np.array(list(train_df['MGMT_value']))\n",
    "test_label_list = np.array(list(test_df['MGMT_value']))\n",
    "indexes = np.where((train_slices_list > 0 )&(train_slices_list < 51))\n",
    "train_slices_list = np.take(train_slices_list,indexes)[0]\n",
    "train_folders_list = np.take(train_folders_list,indexes)[0]\n",
    "train_label_list = np.take(train_label_list,indexes)[0]\n",
    "indexes = np.where((test_slices_list > 0 )&(test_slices_list < 51))\n",
    "test_slices_list = np.take(test_slices_list,indexes)[0]\n",
    "test_folders_list = np.take(test_folders_list,indexes)[0]\n",
    "test_label_list = np.take(test_label_list,indexes)[0]"
   ]
  },
  {
   "cell_type": "code",
   "execution_count": 11,
   "id": "704735c8",
   "metadata": {
    "execution": {
     "iopub.execute_input": "2021-10-06T08:22:07.714831Z",
     "iopub.status.busy": "2021-10-06T08:22:07.701257Z",
     "iopub.status.idle": "2021-10-06T08:22:07.717237Z",
     "shell.execute_reply": "2021-10-06T08:22:07.716781Z",
     "shell.execute_reply.started": "2021-10-06T08:21:08.083738Z"
    },
    "papermill": {
     "duration": 0.049429,
     "end_time": "2021-10-06T08:22:07.717367",
     "exception": false,
     "start_time": "2021-10-06T08:22:07.667938",
     "status": "completed"
    },
    "tags": []
   },
   "outputs": [],
   "source": [
    "class DataGenerator(torch_data.IterableDataset):\n",
    "    def __init__(self,slices_list,folders_list,label_list,width=256,height=256,batch_size=16,shuffle=True):\n",
    "        self.batch_size = batch_size\n",
    "        self.base_dir = '../input/classify-tumor-best/DATATUMORONLY_TRAIN/train'\n",
    "        self.width = width\n",
    "        self.crop_length = 224\n",
    "        self.height = height\n",
    "        self.tolerance = 5\n",
    "        self.shuffle = shuffle\n",
    "        self.intial_slices_list = slices_list\n",
    "        self.intial_folders_list = folders_list\n",
    "        self.intial_label_list = label_list\n",
    "        self.class_map = {'MGMT':1,'NONMGMT':0}\n",
    "        self.min_slice = 64 \n",
    "        self.normdata = 1\n",
    "        self.offset = 50 #for __len__\n",
    "        self.index_map = {v:k for k,v in self.class_map.items()}\n",
    "        self.get_groups()\n",
    "        self._get_size()\n",
    "        \n",
    "        print('Loader==>',len(self.intial_slices_list),self.class_map,self.index_map)\n",
    "        print('Grps:',[(K,len(V)) for K,V in self.group_indexes.items()])\n",
    "        print('Size:',self.size-self.offset)\n",
    "        \n",
    "    def get_groups(self):\n",
    "        limit = len(self.intial_slices_list)\n",
    "        tmp = np.copy(self.intial_slices_list)\n",
    "        i = 0\n",
    "        self.group_indexes = {}\n",
    "        \n",
    "        while i<limit:\n",
    "            if len(tmp)==0:\n",
    "                print('Empty TMP')\n",
    "                break\n",
    "            num = self.intial_slices_list[i]\n",
    "            ul = num+self.tolerance\n",
    "            ll = max(num-self.tolerance,0)\n",
    "            key = f'{ll}-{ul}'\n",
    "            lindexes = np.where(tmp >=ll)[0]\n",
    "            uindixes = np.where(tmp <= ul)[0]\n",
    "            neg_indexes = np.where(tmp==-1)[0]\n",
    "            indexes = np.intersect1d(lindexes,uindixes)\n",
    "            indexes = np.array(list(set(indexes)-set(neg_indexes)))\n",
    "\n",
    "            if len(indexes) == 0:\n",
    "                #print('Empty',i,key)\n",
    "                pass\n",
    "            else:\n",
    "                #print(i,key)\n",
    "                self.group_indexes[key] = indexes\n",
    "                #tmp = np.delete(tmp,indexes)\n",
    "                tmp[indexes] = -1\n",
    "            i+=1\n",
    "    \n",
    "\n",
    "    def __len__(self):\n",
    "        return self.size\n",
    "\n",
    "    def __iter__(self):\n",
    "        self.i = 0\n",
    "        #print('ITER....')\n",
    "        self.train_indexes = []\n",
    "        #print('Grps:',[(K,len(V)) for K,V in self.group_indexes.items()])\n",
    "        for key in self.group_indexes.keys():\n",
    "            bindexes = self.group_indexes[key]\n",
    "            if self.shuffle:\n",
    "                bindexes = np.random.choice(bindexes,len(bindexes),replace=False)\n",
    "            self.train_indexes.extend([bindexes[i:i+self.batch_size] for i in range(0,len(bindexes),self.batch_size)])\n",
    "                   \n",
    "        self.size = len(self.train_indexes)\n",
    "        #print('self.size',self.size,self.train_indexes)\n",
    "        return self\n",
    "    \n",
    "\n",
    "    def __next__(self):\n",
    "        if self.i >= self.size:\n",
    "            raise StopIteration\n",
    "        self.i += 1\n",
    "        #print('NEXT....')\n",
    "        return self.prepare_data(self.train_indexes[self.i-1])\n",
    "    \n",
    "    def prepare_data(self,random_indexes):\n",
    "        start =time.time()\n",
    "        labels = []\n",
    "        random_folder = np.take(self.intial_folders_list,random_indexes)\n",
    "        random_slices = np.take(self.intial_slices_list,random_indexes)\n",
    "        random_labels = np.take(self.intial_label_list,random_indexes)\n",
    "        self.max_depth = random_slices.max()\n",
    "        batch_x = self.__data_gen_batch(random_folder)\n",
    "        if self.normdata:\n",
    "            batch_x = batch_x/255.\n",
    "        #print(batch_x.shape)\n",
    "        batch_x = torch.tensor(batch_x.transpose(0,4,3,1,2)).float() #B,CH,D,H,W\n",
    "        #batch_x = torch.tensor(batch_x.transpose(0,4,1,2,3)).float() #B,CH,H,W,D\n",
    "        #print(batch_x.shape)\n",
    "        #padslic = self.min_slice-batch_x.shape[2]#B,CH,D,H,W\n",
    "        #padslic = self.min_slice-batch_x.shape[-1]#B,CH,H,W,D\n",
    "        #batch_x = F.pad(batch_x,(0,0,0,0,0,padslic),'constant',0)#B,CH,D,H,W\n",
    "        #batch_x = F.pad(batch_x,(0,padslic),'constant',0)#B,CH,H,W,D\n",
    "        \n",
    "        labels = torch.tensor(random_labels.astype(int),dtype=torch.long)\n",
    "        return batch_x,labels\n",
    "    \n",
    "\n",
    "    def __data_gen_image(self,folder_name):\n",
    "        flair_path = glob.glob(os.path.join(self.base_dir,folder_name,'flair/*'))\n",
    "        flair_path = sorted(flair_path,key=lambda x:x.split('-')[-1].split('.')[-2].zfill(3))\n",
    "        all_images = []\n",
    "        all_images = np.zeros(shape=(self.max_depth,self.height,self.height,1),dtype=np.float32)\n",
    "        for i,img_path in enumerate(flair_path):\n",
    "            img = cv2.imread(img_path,1)\n",
    "            img = cv2.resize(img,(self.width,self.height))\n",
    "            #img = image.img_to_array(img)\n",
    "            #all_images[i,] = np.expand_dims(img,axis=-1)\n",
    "        return np.transpose(all_images,(1,2,0,3))\n",
    "\n",
    "    def __data_gen_batch(self,folder_names):\n",
    "        batch_data = np.empty(shape=(len(folder_names),self.height,self.width,self.max_depth,3))\n",
    "        for i,patient_id in enumerate(folder_names):\n",
    "            batch_data[i,] = self.__data_gen_image(patient_id)\n",
    "        return batch_data\n",
    "    \n",
    "    def _get_size(self):\n",
    "        self.size = 0\n",
    "        self.size += self.offset\n",
    "        for k in self.group_indexes:\n",
    "            div, mod = divmod(len(self.group_indexes[k]), self.batch_size)\n",
    "            if mod!=0:\n",
    "                div +=1\n",
    "            self.size += div\n",
    "        \n",
    "        "
   ]
  },
  {
   "cell_type": "code",
   "execution_count": 12,
   "id": "7ca202ea",
   "metadata": {
    "execution": {
     "iopub.execute_input": "2021-10-06T08:22:07.762117Z",
     "iopub.status.busy": "2021-10-06T08:22:07.761112Z",
     "iopub.status.idle": "2021-10-06T08:22:07.763337Z",
     "shell.execute_reply": "2021-10-06T08:22:07.763734Z",
     "shell.execute_reply.started": "2021-10-06T08:21:08.121189Z"
    },
    "papermill": {
     "duration": 0.027563,
     "end_time": "2021-10-06T08:22:07.763859",
     "exception": false,
     "start_time": "2021-10-06T08:22:07.736296",
     "status": "completed"
    },
    "tags": []
   },
   "outputs": [],
   "source": [
    " def worker_init_fn(_):\n",
    "    worker_info = torch.utils.data.get_worker_info()\n",
    "    dataset = worker_info.dataset\n",
    "    worker_id = worker_info.id\n",
    "    for K in dataset.group_indexes:\n",
    "        split_size = math.ceil(len(dataset.group_indexes[K]) / worker_info.num_workers)\n",
    "        dataset.group_indexes[K] = dataset.group_indexes[K][worker_id*split_size:(worker_id +1)*split_size]\n",
    "        #print('worker_id:',worker_id,',K',K,',Data',len(dataset.group_indexes[K]),'\\n')\n",
    "    "
   ]
  },
  {
   "cell_type": "code",
   "execution_count": 13,
   "id": "5fd66e72",
   "metadata": {
    "execution": {
     "iopub.execute_input": "2021-10-06T08:22:07.806841Z",
     "iopub.status.busy": "2021-10-06T08:22:07.805393Z",
     "iopub.status.idle": "2021-10-06T08:22:07.877544Z",
     "shell.execute_reply": "2021-10-06T08:22:07.878146Z",
     "shell.execute_reply.started": "2021-10-06T08:21:08.140843Z"
    },
    "papermill": {
     "duration": 0.095804,
     "end_time": "2021-10-06T08:22:07.878334",
     "exception": false,
     "start_time": "2021-10-06T08:22:07.782530",
     "status": "completed"
    },
    "tags": []
   },
   "outputs": [
    {
     "name": "stdout",
     "output_type": "stream",
     "text": [
      "Loader==> 434 {'MGMT': 1, 'NONMGMT': 0} {1: 'MGMT', 0: 'NONMGMT'}\n",
      "Grps: [('18-28', 132), ('19-29', 3), ('27-37', 33), ('12-22', 103), ('9-19', 39), ('43-53', 25), ('2-12', 76), ('35-45', 16), ('0-6', 7)]\n",
      "Size: 148\n",
      "Loader==> 55 {'MGMT': 1, 'NONMGMT': 0} {1: 'MGMT', 0: 'NONMGMT'}\n",
      "Grps: [('15-25', 10), ('21-31', 3), ('8-18', 30), ('6-16', 7), ('2-12', 3), ('33-43', 2)]\n",
      "Size: 29\n"
     ]
    }
   ],
   "source": [
    "train_datagen = DataGenerator(train_slices_list,train_folders_list,train_label_list,batch_size=3,height=224,width=224,shuffle=True)\n",
    "test_datagen = DataGenerator(test_slices_list,test_folders_list,test_label_list,batch_size=2,height=224,width=224,shuffle=True)"
   ]
  },
  {
   "cell_type": "code",
   "execution_count": 14,
   "id": "035b0555",
   "metadata": {
    "execution": {
     "iopub.execute_input": "2021-10-06T08:22:07.922290Z",
     "iopub.status.busy": "2021-10-06T08:22:07.921501Z",
     "iopub.status.idle": "2021-10-06T08:22:07.923434Z",
     "shell.execute_reply": "2021-10-06T08:22:07.923871Z",
     "shell.execute_reply.started": "2021-10-06T08:21:08.243502Z"
    },
    "papermill": {
     "duration": 0.025689,
     "end_time": "2021-10-06T08:22:07.924007",
     "exception": false,
     "start_time": "2021-10-06T08:22:07.898318",
     "status": "completed"
    },
    "tags": []
   },
   "outputs": [],
   "source": [
    "train_loader = torch.utils.data.DataLoader(train_datagen, batch_size=None,pin_memory=False,num_workers=4,worker_init_fn=worker_init_fn)\n",
    "val_loader = torch.utils.data.DataLoader(test_datagen, batch_size=None,pin_memory=False,num_workers=2,worker_init_fn=worker_init_fn)"
   ]
  },
  {
   "cell_type": "code",
   "execution_count": 15,
   "id": "3643a078",
   "metadata": {
    "execution": {
     "iopub.execute_input": "2021-10-06T08:22:07.967626Z",
     "iopub.status.busy": "2021-10-06T08:22:07.964766Z",
     "iopub.status.idle": "2021-10-06T08:22:12.676561Z",
     "shell.execute_reply": "2021-10-06T08:22:12.677201Z",
     "shell.execute_reply.started": "2021-10-06T08:21:08.252035Z"
    },
    "papermill": {
     "duration": 4.734578,
     "end_time": "2021-10-06T08:22:12.677395",
     "exception": false,
     "start_time": "2021-10-06T08:22:07.942817",
     "status": "completed"
    },
    "tags": []
   },
   "outputs": [
    {
     "name": "stdout",
     "output_type": "stream",
     "text": [
      "198\n",
      "0 torch.Size([3, 3, 25, 224, 224]) torch.Size([3])\n",
      "1 torch.Size([3, 3, 23, 224, 224]) torch.Size([3])\n",
      "2 torch.Size([3, 3, 23, 224, 224]) torch.Size([3])\n",
      "3 torch.Size([3, 3, 24, 224, 224]) torch.Size([3])\n",
      "4 torch.Size([3, 3, 25, 224, 224]) torch.Size([3])\n",
      "5 torch.Size([3, 3, 26, 224, 224]) torch.Size([3])\n",
      "6 torch.Size([3, 3, 24, 224, 224]) torch.Size([3])\n",
      "7 torch.Size([3, 3, 22, 224, 224]) torch.Size([3])\n",
      "8 torch.Size([3, 3, 28, 224, 224]) torch.Size([3])\n",
      "9 torch.Size([3, 3, 24, 224, 224]) torch.Size([3])\n",
      "10 torch.Size([3, 3, 20, 224, 224]) torch.Size([3])\n"
     ]
    }
   ],
   "source": [
    "print(len(train_loader))\n",
    "for i,sample in enumerate(train_loader):\n",
    "    if i>10:\n",
    "        break\n",
    "    print(i,sample[0].shape,sample[1].shape)"
   ]
  },
  {
   "cell_type": "code",
   "execution_count": 16,
   "id": "711044b0",
   "metadata": {
    "execution": {
     "iopub.execute_input": "2021-10-06T08:22:12.734748Z",
     "iopub.status.busy": "2021-10-06T08:22:12.734192Z",
     "iopub.status.idle": "2021-10-06T08:22:18.201468Z",
     "shell.execute_reply": "2021-10-06T08:22:18.201861Z",
     "shell.execute_reply.started": "2021-10-06T07:22:45.138644Z"
    },
    "papermill": {
     "duration": 5.502542,
     "end_time": "2021-10-06T08:22:18.202051",
     "exception": false,
     "start_time": "2021-10-06T08:22:12.699509",
     "status": "completed"
    },
    "tags": []
   },
   "outputs": [
    {
     "name": "stdout",
     "output_type": "stream",
     "text": [
      "Done\n"
     ]
    }
   ],
   "source": [
    "class Model(nn.Module):\n",
    "    def __init__(self):\n",
    "        super().__init__()\n",
    "        #self.net = EfficientNet3D.from_name(\"efficientnet-b0\", override_params={'num_classes': 2}, in_channels=1)\n",
    "        #self.net = torchvision.models.r2plus1d_18(pretrained=False, progress=True, num_classes=2)\n",
    "        self.net = torchvision.models.video.mc3_18(pretrained=False, progress=True, num_classes=2)\n",
    "        #n_features = self.net._fc.in_features\n",
    "        #self.net._fc = nn.Linear(in_features=n_features, out_features=1, bias=True)\n",
    "    \n",
    "    def forward(self, x):\n",
    "        out = self.net(x)\n",
    "        return out\n",
    "    \n",
    "model = None\n",
    "model = Model()\n",
    "model.cuda()\n",
    "print('Done')"
   ]
  },
  {
   "cell_type": "code",
   "execution_count": 17,
   "id": "1fdaf78b",
   "metadata": {
    "execution": {
     "iopub.execute_input": "2021-10-06T08:22:18.250026Z",
     "iopub.status.busy": "2021-10-06T08:22:18.249250Z",
     "iopub.status.idle": "2021-10-06T08:22:21.140353Z",
     "shell.execute_reply": "2021-10-06T08:22:21.141134Z",
     "shell.execute_reply.started": "2021-10-06T07:22:55.869313Z"
    },
    "papermill": {
     "duration": 2.917869,
     "end_time": "2021-10-06T08:22:21.141304",
     "exception": false,
     "start_time": "2021-10-06T08:22:18.223435",
     "status": "completed"
    },
    "tags": []
   },
   "outputs": [
    {
     "name": "stdout",
     "output_type": "stream",
     "text": [
      "----------------------------------------------------------------\n",
      "        Layer (type)               Output Shape         Param #\n",
      "================================================================\n",
      "            Conv3d-1    [-1, 64, 100, 112, 112]          28,224\n",
      "       BatchNorm3d-2    [-1, 64, 100, 112, 112]             128\n",
      "              ReLU-3    [-1, 64, 100, 112, 112]               0\n",
      "      Conv3DSimple-4    [-1, 64, 100, 112, 112]         110,592\n",
      "       BatchNorm3d-5    [-1, 64, 100, 112, 112]             128\n",
      "              ReLU-6    [-1, 64, 100, 112, 112]               0\n",
      "      Conv3DSimple-7    [-1, 64, 100, 112, 112]         110,592\n",
      "       BatchNorm3d-8    [-1, 64, 100, 112, 112]             128\n",
      "              ReLU-9    [-1, 64, 100, 112, 112]               0\n",
      "       BasicBlock-10    [-1, 64, 100, 112, 112]               0\n",
      "     Conv3DSimple-11    [-1, 64, 100, 112, 112]         110,592\n",
      "      BatchNorm3d-12    [-1, 64, 100, 112, 112]             128\n",
      "             ReLU-13    [-1, 64, 100, 112, 112]               0\n",
      "     Conv3DSimple-14    [-1, 64, 100, 112, 112]         110,592\n",
      "      BatchNorm3d-15    [-1, 64, 100, 112, 112]             128\n",
      "             ReLU-16    [-1, 64, 100, 112, 112]               0\n",
      "       BasicBlock-17    [-1, 64, 100, 112, 112]               0\n",
      " Conv3DNoTemporal-18     [-1, 128, 100, 56, 56]          73,728\n",
      "      BatchNorm3d-19     [-1, 128, 100, 56, 56]             256\n",
      "             ReLU-20     [-1, 128, 100, 56, 56]               0\n",
      " Conv3DNoTemporal-21     [-1, 128, 100, 56, 56]         147,456\n",
      "      BatchNorm3d-22     [-1, 128, 100, 56, 56]             256\n",
      "           Conv3d-23     [-1, 128, 100, 56, 56]           8,192\n",
      "      BatchNorm3d-24     [-1, 128, 100, 56, 56]             256\n",
      "             ReLU-25     [-1, 128, 100, 56, 56]               0\n",
      "       BasicBlock-26     [-1, 128, 100, 56, 56]               0\n",
      " Conv3DNoTemporal-27     [-1, 128, 100, 56, 56]         147,456\n",
      "      BatchNorm3d-28     [-1, 128, 100, 56, 56]             256\n",
      "             ReLU-29     [-1, 128, 100, 56, 56]               0\n",
      " Conv3DNoTemporal-30     [-1, 128, 100, 56, 56]         147,456\n",
      "      BatchNorm3d-31     [-1, 128, 100, 56, 56]             256\n",
      "             ReLU-32     [-1, 128, 100, 56, 56]               0\n",
      "       BasicBlock-33     [-1, 128, 100, 56, 56]               0\n",
      " Conv3DNoTemporal-34     [-1, 256, 100, 28, 28]         294,912\n",
      "      BatchNorm3d-35     [-1, 256, 100, 28, 28]             512\n",
      "             ReLU-36     [-1, 256, 100, 28, 28]               0\n",
      " Conv3DNoTemporal-37     [-1, 256, 100, 28, 28]         589,824\n",
      "      BatchNorm3d-38     [-1, 256, 100, 28, 28]             512\n",
      "           Conv3d-39     [-1, 256, 100, 28, 28]          32,768\n",
      "      BatchNorm3d-40     [-1, 256, 100, 28, 28]             512\n",
      "             ReLU-41     [-1, 256, 100, 28, 28]               0\n",
      "       BasicBlock-42     [-1, 256, 100, 28, 28]               0\n",
      " Conv3DNoTemporal-43     [-1, 256, 100, 28, 28]         589,824\n",
      "      BatchNorm3d-44     [-1, 256, 100, 28, 28]             512\n",
      "             ReLU-45     [-1, 256, 100, 28, 28]               0\n",
      " Conv3DNoTemporal-46     [-1, 256, 100, 28, 28]         589,824\n",
      "      BatchNorm3d-47     [-1, 256, 100, 28, 28]             512\n",
      "             ReLU-48     [-1, 256, 100, 28, 28]               0\n",
      "       BasicBlock-49     [-1, 256, 100, 28, 28]               0\n",
      " Conv3DNoTemporal-50     [-1, 512, 100, 14, 14]       1,179,648\n",
      "      BatchNorm3d-51     [-1, 512, 100, 14, 14]           1,024\n",
      "             ReLU-52     [-1, 512, 100, 14, 14]               0\n",
      " Conv3DNoTemporal-53     [-1, 512, 100, 14, 14]       2,359,296\n",
      "      BatchNorm3d-54     [-1, 512, 100, 14, 14]           1,024\n",
      "           Conv3d-55     [-1, 512, 100, 14, 14]         131,072\n",
      "      BatchNorm3d-56     [-1, 512, 100, 14, 14]           1,024\n",
      "             ReLU-57     [-1, 512, 100, 14, 14]               0\n",
      "       BasicBlock-58     [-1, 512, 100, 14, 14]               0\n",
      " Conv3DNoTemporal-59     [-1, 512, 100, 14, 14]       2,359,296\n",
      "      BatchNorm3d-60     [-1, 512, 100, 14, 14]           1,024\n",
      "             ReLU-61     [-1, 512, 100, 14, 14]               0\n",
      " Conv3DNoTemporal-62     [-1, 512, 100, 14, 14]       2,359,296\n",
      "      BatchNorm3d-63     [-1, 512, 100, 14, 14]           1,024\n",
      "             ReLU-64     [-1, 512, 100, 14, 14]               0\n",
      "       BasicBlock-65     [-1, 512, 100, 14, 14]               0\n",
      "AdaptiveAvgPool3d-66         [-1, 512, 1, 1, 1]               0\n",
      "           Linear-67                    [-1, 2]           1,026\n",
      "      VideoResNet-68                    [-1, 2]               0\n",
      "================================================================\n",
      "Total params: 11,491,266\n",
      "Trainable params: 11,491,266\n",
      "Non-trainable params: 0\n",
      "----------------------------------------------------------------\n",
      "Input size (MB): 57.42\n",
      "Forward/backward pass size (MB): 18987.50\n",
      "Params size (MB): 43.84\n",
      "Estimated Total Size (MB): 19088.76\n",
      "----------------------------------------------------------------\n"
     ]
    }
   ],
   "source": [
    "summary(model, input_size=(3,100, 224,224))"
   ]
  },
  {
   "cell_type": "code",
   "execution_count": 18,
   "id": "7be97bbc",
   "metadata": {
    "execution": {
     "iopub.execute_input": "2021-10-06T08:22:21.192697Z",
     "iopub.status.busy": "2021-10-06T08:22:21.191825Z",
     "iopub.status.idle": "2021-10-06T08:22:21.194377Z",
     "shell.execute_reply": "2021-10-06T08:22:21.193893Z",
     "shell.execute_reply.started": "2021-10-06T07:23:25.12601Z"
    },
    "papermill": {
     "duration": 0.030559,
     "end_time": "2021-10-06T08:22:21.194492",
     "exception": false,
     "start_time": "2021-10-06T08:22:21.163933",
     "status": "completed"
    },
    "tags": []
   },
   "outputs": [],
   "source": [
    "criterion = nn.CrossEntropyLoss()\n",
    "#optimizer = torch.optim.SGD(model.parameters(), lr=0.001, momentum=0.9)\n",
    "optimizer = torch.optim.Adam(model.parameters(), lr=0.001)\n",
    "scheduler = torch.optim.lr_scheduler.MultiStepLR(optimizer, milestones=[50,90,95], gamma=0.1, last_epoch=-1, verbose=False)"
   ]
  },
  {
   "cell_type": "code",
   "execution_count": 19,
   "id": "8119fb62",
   "metadata": {
    "execution": {
     "iopub.execute_input": "2021-10-06T08:22:21.240768Z",
     "iopub.status.busy": "2021-10-06T08:22:21.239992Z",
     "iopub.status.idle": "2021-10-06T08:22:25.028545Z",
     "shell.execute_reply": "2021-10-06T08:22:25.028064Z",
     "shell.execute_reply.started": "2021-10-06T07:23:42.311864Z"
    },
    "papermill": {
     "duration": 3.813059,
     "end_time": "2021-10-06T08:22:25.028679",
     "exception": false,
     "start_time": "2021-10-06T08:22:21.215620",
     "status": "completed"
    },
    "tags": []
   },
   "outputs": [
    {
     "name": "stdout",
     "output_type": "stream",
     "text": [
      "torch.Size([3, 3, 25, 224, 224]) torch.Size([3])\n",
      "torch.Size([5, 2])\n",
      "torch.Size([3, 3, 25, 224, 224]) torch.float32\n",
      "tensor(0.6931, device='cuda:0', grad_fn=<NllLossBackward>)\n"
     ]
    }
   ],
   "source": [
    "for i in train_loader:\n",
    "    print(i[0].shape,i[1].shape)\n",
    "    break\n",
    "#inputs = torch.randn((5, 1, 224, 224, 64)).cuda()\n",
    "inputs = torch.randn((5, 3, 1,224, 224)).cuda()\n",
    "labels = torch.tensor([0,1,0,0,1],dtype=torch.long).cuda()\n",
    "out = model(inputs)\n",
    "print(out.shape)\n",
    "img = i[0].cuda()\n",
    "print(img.shape,img.dtype)\n",
    "out = model(img)\n",
    "print(criterion(out,i[1].cuda()))"
   ]
  },
  {
   "cell_type": "code",
   "execution_count": 20,
   "id": "df9889ec",
   "metadata": {
    "execution": {
     "iopub.execute_input": "2021-10-06T08:22:25.086078Z",
     "iopub.status.busy": "2021-10-06T08:22:25.085443Z",
     "iopub.status.idle": "2021-10-06T08:22:25.091236Z",
     "shell.execute_reply": "2021-10-06T08:22:25.088850Z",
     "shell.execute_reply.started": "2021-10-06T07:31:48.243527Z"
    },
    "papermill": {
     "duration": 0.038617,
     "end_time": "2021-10-06T08:22:25.091492",
     "exception": false,
     "start_time": "2021-10-06T08:22:25.052875",
     "status": "completed"
    },
    "tags": []
   },
   "outputs": [],
   "source": [
    "def eval_model(model,valloader,epoch,writer,val_global_iter):\n",
    "    model.eval()\n",
    "    dset = tqdm(enumerate(valloader),total=len(valloader))\n",
    "    avg_acc = 0\n",
    "    avg_loss = 0\n",
    "    \n",
    "    val_writer_freq = 10\n",
    "    val_total_loss = 0\n",
    "    val_total_acc = 0\n",
    "\n",
    "    for i,sample in dset:\n",
    "        val_global_iter+=1\n",
    "        #if i>10:\n",
    "        #    break\n",
    "        batch,label = sample\n",
    "        batch = batch.cuda()\n",
    "        label = label.cuda()\n",
    "        out = model(batch)\n",
    "        loss = criterion(out, label)\n",
    "        accs = accuracy(out.data, label, topk=(1,))\n",
    "        \n",
    "        val_total_loss += loss.item()\n",
    "        val_total_acc += accs[0].item()\n",
    "        avg_loss += loss.item()\n",
    "        avg_acc += accs[0].item()\n",
    "        if val_global_iter%val_writer_freq == 0:\n",
    "            writer.add_info_new(\"Loss/val\", value1=val_total_loss/val_writer_freq, value2=val_global_iter)\n",
    "            writer.add_info_new(\"ACC_Ori/val\",value1=val_total_acc/val_writer_freq, value2=val_global_iter)\n",
    "            val_total_loss = 0\n",
    "            val_total_acc = 0\n",
    "            \n",
    "        dset.set_description(f'ValEpoch:{epoch} | Loss:{loss.item():.4f} | Acc:{accs[0].item():.1f}')\n",
    "    print(f\"Avg Loss:{avg_loss/(i+1):.4f} | Avg Acc:{avg_acc/(i+1):.1f}\")\n",
    "    return val_global_iter"
   ]
  },
  {
   "cell_type": "code",
   "execution_count": 21,
   "id": "69a35492",
   "metadata": {
    "execution": {
     "iopub.execute_input": "2021-10-06T08:22:25.151629Z",
     "iopub.status.busy": "2021-10-06T08:22:25.150701Z",
     "iopub.status.idle": "2021-10-06T13:48:22.065831Z",
     "shell.execute_reply": "2021-10-06T13:48:22.066512Z",
     "shell.execute_reply.started": "2021-10-06T07:31:50.089933Z"
    },
    "papermill": {
     "duration": 19556.951311,
     "end_time": "2021-10-06T13:48:22.066749",
     "exception": false,
     "start_time": "2021-10-06T08:22:25.115438",
     "status": "completed"
    },
    "tags": []
   },
   "outputs": [
    {
     "name": "stdout",
     "output_type": "stream",
     "text": [
      "Removing old events..\n"
     ]
    },
    {
     "name": "stderr",
     "output_type": "stream",
     "text": [
      "2021-10-06 08:22:25.612883: I tensorflow/stream_executor/platform/default/dso_loader.cc:49] Successfully opened dynamic library libcudart.so.11.0\n",
      "Epoch:0 | LR:0.00100 | Loss:0.6931 | Acc:50.0:  81%|████████  | 160/198 [05:17<01:15,  1.99s/it]\n"
     ]
    },
    {
     "name": "stdout",
     "output_type": "stream",
     "text": [
      "Avg Loss:0.6934 | Avg Acc:47.9\n"
     ]
    },
    {
     "name": "stderr",
     "output_type": "stream",
     "text": [
      "ValEpoch:0 | Loss:16596071996452828964278474113024.0000 | Acc:0.0:  41%|████      | 32/79 [00:14<00:21,  2.20it/s]"
     ]
    },
    {
     "name": "stdout",
     "output_type": "stream",
     "text": [
      "Avg Loss:6733997909396010835875100360704.0000 | Avg Acc:50.0\n"
     ]
    },
    {
     "name": "stderr",
     "output_type": "stream",
     "text": [
      "\n",
      "Epoch:1 | LR:0.00100 | Loss:0.6932 | Acc:50.0:  81%|████████  | 160/198 [03:07<00:44,  1.17s/it]"
     ]
    },
    {
     "name": "stdout",
     "output_type": "stream",
     "text": [
      "Avg Loss:0.6932 | Avg Acc:48.7\n"
     ]
    },
    {
     "name": "stderr",
     "output_type": "stream",
     "text": [
      "\n",
      "ValEpoch:1 | Loss:820475796119928233263104.0000 | Acc:0.0:  41%|████      | 32/79 [00:05<00:08,  5.41it/s]"
     ]
    },
    {
     "name": "stdout",
     "output_type": "stream",
     "text": [
      "Avg Loss:332918773347177180692480.0000 | Avg Acc:50.0\n"
     ]
    },
    {
     "name": "stderr",
     "output_type": "stream",
     "text": [
      "\n",
      "Epoch:2 | LR:0.00100 | Loss:0.6932 | Acc:50.0:  81%|████████  | 160/198 [03:08<00:44,  1.18s/it]\n"
     ]
    },
    {
     "name": "stdout",
     "output_type": "stream",
     "text": [
      "Avg Loss:0.6931 | Avg Acc:51.2\n"
     ]
    },
    {
     "name": "stderr",
     "output_type": "stream",
     "text": [
      "ValEpoch:2 | Loss:39161769502965760.0000 | Acc:0.0:  41%|████      | 32/79 [00:05<00:08,  5.51it/s]"
     ]
    },
    {
     "name": "stdout",
     "output_type": "stream",
     "text": [
      "Avg Loss:15890474569039872.0000 | Avg Acc:50.0\n"
     ]
    },
    {
     "name": "stderr",
     "output_type": "stream",
     "text": [
      "\n",
      "Epoch:3 | LR:0.00100 | Loss:0.6933 | Acc:50.0:  81%|████████  | 160/198 [03:07<00:44,  1.17s/it]"
     ]
    },
    {
     "name": "stdout",
     "output_type": "stream",
     "text": [
      "Avg Loss:0.6931 | Avg Acc:51.2\n"
     ]
    },
    {
     "name": "stderr",
     "output_type": "stream",
     "text": [
      "\n",
      "ValEpoch:3 | Loss:1869255680.0000 | Acc:0.0:  41%|████      | 32/79 [00:05<00:08,  5.51it/s]"
     ]
    },
    {
     "name": "stdout",
     "output_type": "stream",
     "text": [
      "Avg Loss:758467220.0000 | Avg Acc:50.0\n"
     ]
    },
    {
     "name": "stderr",
     "output_type": "stream",
     "text": [
      "\n",
      "Epoch:4 | LR:0.00100 | Loss:0.6933 | Acc:50.0:  81%|████████  | 160/198 [03:07<00:44,  1.17s/it]\n"
     ]
    },
    {
     "name": "stdout",
     "output_type": "stream",
     "text": [
      "Avg Loss:0.6931 | Avg Acc:51.2\n"
     ]
    },
    {
     "name": "stderr",
     "output_type": "stream",
     "text": [
      "ValEpoch:4 | Loss:89.1846 | Acc:0.0:  41%|████      | 32/79 [00:05<00:08,  5.48it/s]"
     ]
    },
    {
     "name": "stdout",
     "output_type": "stream",
     "text": [
      "Avg Loss:36.1847 | Avg Acc:50.0\n"
     ]
    },
    {
     "name": "stderr",
     "output_type": "stream",
     "text": [
      "\n",
      "Epoch:5 | LR:0.00100 | Loss:0.6933 | Acc:50.0:  81%|████████  | 160/198 [03:07<00:44,  1.17s/it]"
     ]
    },
    {
     "name": "stdout",
     "output_type": "stream",
     "text": [
      "Avg Loss:0.6931 | Avg Acc:51.2\n"
     ]
    },
    {
     "name": "stderr",
     "output_type": "stream",
     "text": [
      "\n",
      "ValEpoch:5 | Loss:0.6735 | Acc:100.0:  41%|████      | 32/79 [00:05<00:08,  5.58it/s]"
     ]
    },
    {
     "name": "stdout",
     "output_type": "stream",
     "text": [
      "Avg Loss:0.6933 | Avg Acc:50.0\n"
     ]
    },
    {
     "name": "stderr",
     "output_type": "stream",
     "text": [
      "\n",
      "Epoch:6 | LR:0.00100 | Loss:0.6934 | Acc:50.0:  81%|████████  | 160/198 [03:07<00:44,  1.17s/it]\n"
     ]
    },
    {
     "name": "stdout",
     "output_type": "stream",
     "text": [
      "Avg Loss:0.6930 | Avg Acc:51.2\n"
     ]
    },
    {
     "name": "stderr",
     "output_type": "stream",
     "text": [
      "ValEpoch:6 | Loss:0.6719 | Acc:100.0:  41%|████      | 32/79 [00:05<00:08,  5.55it/s]"
     ]
    },
    {
     "name": "stdout",
     "output_type": "stream",
     "text": [
      "Avg Loss:0.6934 | Avg Acc:50.0\n"
     ]
    },
    {
     "name": "stderr",
     "output_type": "stream",
     "text": [
      "\n",
      "Epoch:7 | LR:0.00100 | Loss:0.6934 | Acc:50.0:  81%|████████  | 160/198 [03:07<00:44,  1.17s/it]"
     ]
    },
    {
     "name": "stdout",
     "output_type": "stream",
     "text": [
      "Avg Loss:0.6930 | Avg Acc:51.2\n"
     ]
    },
    {
     "name": "stderr",
     "output_type": "stream",
     "text": [
      "\n",
      "ValEpoch:7 | Loss:0.6706 | Acc:100.0:  41%|████      | 32/79 [00:05<00:08,  5.61it/s]"
     ]
    },
    {
     "name": "stdout",
     "output_type": "stream",
     "text": [
      "Avg Loss:0.6934 | Avg Acc:50.0\n"
     ]
    },
    {
     "name": "stderr",
     "output_type": "stream",
     "text": [
      "\n",
      "Epoch:8 | LR:0.00100 | Loss:0.6934 | Acc:50.0:  81%|████████  | 160/198 [03:07<00:44,  1.17s/it]\n"
     ]
    },
    {
     "name": "stdout",
     "output_type": "stream",
     "text": [
      "Avg Loss:0.6930 | Avg Acc:51.2\n"
     ]
    },
    {
     "name": "stderr",
     "output_type": "stream",
     "text": [
      "ValEpoch:8 | Loss:0.6696 | Acc:100.0:  41%|████      | 32/79 [00:05<00:08,  5.42it/s]"
     ]
    },
    {
     "name": "stdout",
     "output_type": "stream",
     "text": [
      "Avg Loss:0.6934 | Avg Acc:50.0\n"
     ]
    },
    {
     "name": "stderr",
     "output_type": "stream",
     "text": [
      "\n",
      "Epoch:9 | LR:0.00100 | Loss:0.6934 | Acc:50.0:  81%|████████  | 160/198 [03:07<00:44,  1.17s/it]"
     ]
    },
    {
     "name": "stdout",
     "output_type": "stream",
     "text": [
      "Avg Loss:0.6930 | Avg Acc:51.2\n"
     ]
    },
    {
     "name": "stderr",
     "output_type": "stream",
     "text": [
      "\n",
      "ValEpoch:9 | Loss:0.6688 | Acc:100.0:  41%|████      | 32/79 [00:05<00:08,  5.61it/s]"
     ]
    },
    {
     "name": "stdout",
     "output_type": "stream",
     "text": [
      "Avg Loss:0.6935 | Avg Acc:50.0\n"
     ]
    },
    {
     "name": "stderr",
     "output_type": "stream",
     "text": [
      "\n",
      "Epoch:10 | LR:0.00100 | Loss:0.6935 | Acc:50.0:  81%|████████  | 160/198 [03:07<00:44,  1.17s/it]\n"
     ]
    },
    {
     "name": "stdout",
     "output_type": "stream",
     "text": [
      "Avg Loss:0.6930 | Avg Acc:51.2\n"
     ]
    },
    {
     "name": "stderr",
     "output_type": "stream",
     "text": [
      "ValEpoch:10 | Loss:0.6682 | Acc:100.0:  41%|████      | 32/79 [00:05<00:08,  5.67it/s]"
     ]
    },
    {
     "name": "stdout",
     "output_type": "stream",
     "text": [
      "Avg Loss:0.6935 | Avg Acc:50.0\n"
     ]
    },
    {
     "name": "stderr",
     "output_type": "stream",
     "text": [
      "\n",
      "Epoch:11 | LR:0.00100 | Loss:0.6935 | Acc:50.0:  81%|████████  | 160/198 [03:07<00:44,  1.17s/it]"
     ]
    },
    {
     "name": "stdout",
     "output_type": "stream",
     "text": [
      "Avg Loss:0.6930 | Avg Acc:51.2\n"
     ]
    },
    {
     "name": "stderr",
     "output_type": "stream",
     "text": [
      "\n",
      "ValEpoch:11 | Loss:0.6677 | Acc:100.0:  41%|████      | 32/79 [00:05<00:08,  5.37it/s]"
     ]
    },
    {
     "name": "stdout",
     "output_type": "stream",
     "text": [
      "Avg Loss:0.6935 | Avg Acc:50.0\n"
     ]
    },
    {
     "name": "stderr",
     "output_type": "stream",
     "text": [
      "\n",
      "Epoch:12 | LR:0.00100 | Loss:0.6935 | Acc:50.0:  81%|████████  | 160/198 [03:07<00:44,  1.17s/it]\n"
     ]
    },
    {
     "name": "stdout",
     "output_type": "stream",
     "text": [
      "Avg Loss:0.6930 | Avg Acc:51.2\n"
     ]
    },
    {
     "name": "stderr",
     "output_type": "stream",
     "text": [
      "ValEpoch:12 | Loss:0.6673 | Acc:100.0:  41%|████      | 32/79 [00:05<00:08,  5.61it/s]"
     ]
    },
    {
     "name": "stdout",
     "output_type": "stream",
     "text": [
      "Avg Loss:0.6935 | Avg Acc:50.0\n"
     ]
    },
    {
     "name": "stderr",
     "output_type": "stream",
     "text": [
      "\n",
      "Epoch:13 | LR:0.00100 | Loss:0.6935 | Acc:50.0:  81%|████████  | 160/198 [03:08<00:44,  1.18s/it]"
     ]
    },
    {
     "name": "stdout",
     "output_type": "stream",
     "text": [
      "Avg Loss:0.6930 | Avg Acc:51.2\n"
     ]
    },
    {
     "name": "stderr",
     "output_type": "stream",
     "text": [
      "\n",
      "ValEpoch:13 | Loss:0.6670 | Acc:100.0:  41%|████      | 32/79 [00:06<00:08,  5.32it/s]"
     ]
    },
    {
     "name": "stdout",
     "output_type": "stream",
     "text": [
      "Avg Loss:0.6935 | Avg Acc:50.0\n"
     ]
    },
    {
     "name": "stderr",
     "output_type": "stream",
     "text": [
      "\n",
      "Epoch:14 | LR:0.00100 | Loss:0.6935 | Acc:50.0:  81%|████████  | 160/198 [03:07<00:44,  1.17s/it]\n"
     ]
    },
    {
     "name": "stdout",
     "output_type": "stream",
     "text": [
      "Avg Loss:0.6930 | Avg Acc:51.2\n"
     ]
    },
    {
     "name": "stderr",
     "output_type": "stream",
     "text": [
      "ValEpoch:14 | Loss:0.6668 | Acc:100.0:  41%|████      | 32/79 [00:05<00:08,  5.34it/s]"
     ]
    },
    {
     "name": "stdout",
     "output_type": "stream",
     "text": [
      "Avg Loss:0.6935 | Avg Acc:50.0\n"
     ]
    },
    {
     "name": "stderr",
     "output_type": "stream",
     "text": [
      "\n",
      "Epoch:15 | LR:0.00100 | Loss:0.6935 | Acc:50.0:  81%|████████  | 160/198 [03:07<00:44,  1.17s/it]"
     ]
    },
    {
     "name": "stdout",
     "output_type": "stream",
     "text": [
      "Avg Loss:0.6930 | Avg Acc:51.2\n"
     ]
    },
    {
     "name": "stderr",
     "output_type": "stream",
     "text": [
      "\n",
      "ValEpoch:15 | Loss:0.6666 | Acc:100.0:  41%|████      | 32/79 [00:06<00:08,  5.27it/s]"
     ]
    },
    {
     "name": "stdout",
     "output_type": "stream",
     "text": [
      "Avg Loss:0.6935 | Avg Acc:50.0\n"
     ]
    },
    {
     "name": "stderr",
     "output_type": "stream",
     "text": [
      "\n",
      "Epoch:16 | LR:0.00100 | Loss:0.6935 | Acc:50.0:  81%|████████  | 160/198 [03:08<00:44,  1.18s/it]\n"
     ]
    },
    {
     "name": "stdout",
     "output_type": "stream",
     "text": [
      "Avg Loss:0.6930 | Avg Acc:51.2\n"
     ]
    },
    {
     "name": "stderr",
     "output_type": "stream",
     "text": [
      "ValEpoch:16 | Loss:0.6665 | Acc:100.0:  41%|████      | 32/79 [00:05<00:08,  5.61it/s]"
     ]
    },
    {
     "name": "stdout",
     "output_type": "stream",
     "text": [
      "Avg Loss:0.6935 | Avg Acc:50.0\n"
     ]
    },
    {
     "name": "stderr",
     "output_type": "stream",
     "text": [
      "\n",
      "Epoch:17 | LR:0.00100 | Loss:0.6935 | Acc:50.0:  81%|████████  | 160/198 [03:08<00:44,  1.18s/it]"
     ]
    },
    {
     "name": "stdout",
     "output_type": "stream",
     "text": [
      "Avg Loss:0.6930 | Avg Acc:51.2\n"
     ]
    },
    {
     "name": "stderr",
     "output_type": "stream",
     "text": [
      "\n",
      "ValEpoch:17 | Loss:0.6663 | Acc:100.0:  41%|████      | 32/79 [00:05<00:08,  5.54it/s]"
     ]
    },
    {
     "name": "stdout",
     "output_type": "stream",
     "text": [
      "Avg Loss:0.6935 | Avg Acc:50.0\n"
     ]
    },
    {
     "name": "stderr",
     "output_type": "stream",
     "text": [
      "\n",
      "Epoch:18 | LR:0.00100 | Loss:0.6935 | Acc:50.0:  81%|████████  | 160/198 [03:08<00:44,  1.18s/it]\n"
     ]
    },
    {
     "name": "stdout",
     "output_type": "stream",
     "text": [
      "Avg Loss:0.6930 | Avg Acc:51.2\n"
     ]
    },
    {
     "name": "stderr",
     "output_type": "stream",
     "text": [
      "ValEpoch:18 | Loss:0.6663 | Acc:100.0:  41%|████      | 32/79 [00:05<00:08,  5.40it/s]"
     ]
    },
    {
     "name": "stdout",
     "output_type": "stream",
     "text": [
      "Avg Loss:0.6935 | Avg Acc:50.0\n"
     ]
    },
    {
     "name": "stderr",
     "output_type": "stream",
     "text": [
      "\n",
      "Epoch:19 | LR:0.00100 | Loss:0.6935 | Acc:50.0:  81%|████████  | 160/198 [03:08<00:44,  1.18s/it]"
     ]
    },
    {
     "name": "stdout",
     "output_type": "stream",
     "text": [
      "Avg Loss:0.6930 | Avg Acc:51.2\n"
     ]
    },
    {
     "name": "stderr",
     "output_type": "stream",
     "text": [
      "\n",
      "ValEpoch:19 | Loss:0.6662 | Acc:100.0:  41%|████      | 32/79 [00:05<00:08,  5.53it/s]"
     ]
    },
    {
     "name": "stdout",
     "output_type": "stream",
     "text": [
      "Avg Loss:0.6935 | Avg Acc:50.0\n"
     ]
    },
    {
     "name": "stderr",
     "output_type": "stream",
     "text": [
      "\n",
      "Epoch:20 | LR:0.00100 | Loss:0.6935 | Acc:50.0:  81%|████████  | 160/198 [03:07<00:44,  1.17s/it]\n"
     ]
    },
    {
     "name": "stdout",
     "output_type": "stream",
     "text": [
      "Avg Loss:0.6930 | Avg Acc:51.2\n"
     ]
    },
    {
     "name": "stderr",
     "output_type": "stream",
     "text": [
      "ValEpoch:20 | Loss:0.6661 | Acc:100.0:  41%|████      | 32/79 [00:05<00:08,  5.49it/s]"
     ]
    },
    {
     "name": "stdout",
     "output_type": "stream",
     "text": [
      "Avg Loss:0.6935 | Avg Acc:50.0\n"
     ]
    },
    {
     "name": "stderr",
     "output_type": "stream",
     "text": [
      "\n",
      "Epoch:21 | LR:0.00100 | Loss:0.6935 | Acc:50.0:  81%|████████  | 160/198 [03:08<00:44,  1.18s/it]"
     ]
    },
    {
     "name": "stdout",
     "output_type": "stream",
     "text": [
      "Avg Loss:0.6930 | Avg Acc:51.2\n"
     ]
    },
    {
     "name": "stderr",
     "output_type": "stream",
     "text": [
      "\n",
      "ValEpoch:21 | Loss:0.6661 | Acc:100.0:  41%|████      | 32/79 [00:05<00:08,  5.61it/s]"
     ]
    },
    {
     "name": "stdout",
     "output_type": "stream",
     "text": [
      "Avg Loss:0.6935 | Avg Acc:50.0\n"
     ]
    },
    {
     "name": "stderr",
     "output_type": "stream",
     "text": [
      "\n",
      "Epoch:22 | LR:0.00100 | Loss:0.6935 | Acc:50.0:  81%|████████  | 160/198 [03:07<00:44,  1.17s/it]\n"
     ]
    },
    {
     "name": "stdout",
     "output_type": "stream",
     "text": [
      "Avg Loss:0.6930 | Avg Acc:51.2\n"
     ]
    },
    {
     "name": "stderr",
     "output_type": "stream",
     "text": [
      "ValEpoch:22 | Loss:0.6661 | Acc:100.0:  41%|████      | 32/79 [00:05<00:08,  5.55it/s]"
     ]
    },
    {
     "name": "stdout",
     "output_type": "stream",
     "text": [
      "Avg Loss:0.6935 | Avg Acc:50.0\n"
     ]
    },
    {
     "name": "stderr",
     "output_type": "stream",
     "text": [
      "\n",
      "Epoch:23 | LR:0.00100 | Loss:0.6935 | Acc:50.0:  81%|████████  | 160/198 [03:07<00:44,  1.17s/it]"
     ]
    },
    {
     "name": "stdout",
     "output_type": "stream",
     "text": [
      "Avg Loss:0.6930 | Avg Acc:51.2\n"
     ]
    },
    {
     "name": "stderr",
     "output_type": "stream",
     "text": [
      "\n",
      "ValEpoch:23 | Loss:0.6660 | Acc:100.0:  41%|████      | 32/79 [00:05<00:08,  5.59it/s]"
     ]
    },
    {
     "name": "stdout",
     "output_type": "stream",
     "text": [
      "Avg Loss:0.6935 | Avg Acc:50.0\n"
     ]
    },
    {
     "name": "stderr",
     "output_type": "stream",
     "text": [
      "\n",
      "Epoch:24 | LR:0.00100 | Loss:0.6935 | Acc:50.0:  81%|████████  | 160/198 [03:07<00:44,  1.17s/it]\n"
     ]
    },
    {
     "name": "stdout",
     "output_type": "stream",
     "text": [
      "Avg Loss:0.6930 | Avg Acc:51.2\n"
     ]
    },
    {
     "name": "stderr",
     "output_type": "stream",
     "text": [
      "ValEpoch:24 | Loss:0.6660 | Acc:100.0:  41%|████      | 32/79 [00:06<00:08,  5.24it/s]"
     ]
    },
    {
     "name": "stdout",
     "output_type": "stream",
     "text": [
      "Avg Loss:0.6935 | Avg Acc:50.0\n"
     ]
    },
    {
     "name": "stderr",
     "output_type": "stream",
     "text": [
      "\n",
      "Epoch:25 | LR:0.00100 | Loss:0.6935 | Acc:50.0:  81%|████████  | 160/198 [03:08<00:44,  1.18s/it]"
     ]
    },
    {
     "name": "stdout",
     "output_type": "stream",
     "text": [
      "Avg Loss:0.6930 | Avg Acc:51.2\n"
     ]
    },
    {
     "name": "stderr",
     "output_type": "stream",
     "text": [
      "\n",
      "ValEpoch:25 | Loss:0.6660 | Acc:100.0:  41%|████      | 32/79 [00:06<00:08,  5.27it/s]"
     ]
    },
    {
     "name": "stdout",
     "output_type": "stream",
     "text": [
      "Avg Loss:0.6935 | Avg Acc:50.0\n"
     ]
    },
    {
     "name": "stderr",
     "output_type": "stream",
     "text": [
      "\n",
      "Epoch:26 | LR:0.00100 | Loss:0.6935 | Acc:50.0:  81%|████████  | 160/198 [03:07<00:44,  1.17s/it]\n"
     ]
    },
    {
     "name": "stdout",
     "output_type": "stream",
     "text": [
      "Avg Loss:0.6930 | Avg Acc:51.2\n"
     ]
    },
    {
     "name": "stderr",
     "output_type": "stream",
     "text": [
      "ValEpoch:26 | Loss:0.6660 | Acc:100.0:  41%|████      | 32/79 [00:06<00:09,  4.97it/s]"
     ]
    },
    {
     "name": "stdout",
     "output_type": "stream",
     "text": [
      "Avg Loss:0.6935 | Avg Acc:50.0\n"
     ]
    },
    {
     "name": "stderr",
     "output_type": "stream",
     "text": [
      "\n",
      "Epoch:27 | LR:0.00100 | Loss:0.6935 | Acc:50.0:  81%|████████  | 160/198 [03:08<00:44,  1.18s/it]"
     ]
    },
    {
     "name": "stdout",
     "output_type": "stream",
     "text": [
      "Avg Loss:0.6931 | Avg Acc:51.2\n"
     ]
    },
    {
     "name": "stderr",
     "output_type": "stream",
     "text": [
      "\n",
      "ValEpoch:27 | Loss:0.6660 | Acc:100.0:  41%|████      | 32/79 [00:05<00:08,  5.47it/s]"
     ]
    },
    {
     "name": "stdout",
     "output_type": "stream",
     "text": [
      "Avg Loss:0.6935 | Avg Acc:50.0\n"
     ]
    },
    {
     "name": "stderr",
     "output_type": "stream",
     "text": [
      "\n",
      "Epoch:28 | LR:0.00100 | Loss:0.6935 | Acc:50.0:  81%|████████  | 160/198 [03:07<00:44,  1.17s/it]\n"
     ]
    },
    {
     "name": "stdout",
     "output_type": "stream",
     "text": [
      "Avg Loss:0.6931 | Avg Acc:51.2\n"
     ]
    },
    {
     "name": "stderr",
     "output_type": "stream",
     "text": [
      "ValEpoch:28 | Loss:0.6660 | Acc:100.0:  41%|████      | 32/79 [00:06<00:08,  5.30it/s]"
     ]
    },
    {
     "name": "stdout",
     "output_type": "stream",
     "text": [
      "Avg Loss:0.6935 | Avg Acc:50.0\n"
     ]
    },
    {
     "name": "stderr",
     "output_type": "stream",
     "text": [
      "\n",
      "Epoch:29 | LR:0.00100 | Loss:0.6935 | Acc:50.0:  81%|████████  | 160/198 [03:07<00:44,  1.17s/it]"
     ]
    },
    {
     "name": "stdout",
     "output_type": "stream",
     "text": [
      "Avg Loss:0.6931 | Avg Acc:51.2\n"
     ]
    },
    {
     "name": "stderr",
     "output_type": "stream",
     "text": [
      "\n",
      "ValEpoch:29 | Loss:0.6660 | Acc:100.0:  41%|████      | 32/79 [00:05<00:08,  5.42it/s]"
     ]
    },
    {
     "name": "stdout",
     "output_type": "stream",
     "text": [
      "Avg Loss:0.6935 | Avg Acc:50.0\n"
     ]
    },
    {
     "name": "stderr",
     "output_type": "stream",
     "text": [
      "\n",
      "Epoch:30 | LR:0.00100 | Loss:0.6935 | Acc:50.0:  81%|████████  | 160/198 [03:07<00:44,  1.17s/it]\n"
     ]
    },
    {
     "name": "stdout",
     "output_type": "stream",
     "text": [
      "Avg Loss:0.6931 | Avg Acc:51.2\n"
     ]
    },
    {
     "name": "stderr",
     "output_type": "stream",
     "text": [
      "ValEpoch:30 | Loss:0.6660 | Acc:100.0:  41%|████      | 32/79 [00:05<00:08,  5.51it/s]"
     ]
    },
    {
     "name": "stdout",
     "output_type": "stream",
     "text": [
      "Avg Loss:0.6935 | Avg Acc:50.0\n"
     ]
    },
    {
     "name": "stderr",
     "output_type": "stream",
     "text": [
      "\n",
      "Epoch:31 | LR:0.00100 | Loss:0.6935 | Acc:50.0:  81%|████████  | 160/198 [03:07<00:44,  1.17s/it]"
     ]
    },
    {
     "name": "stdout",
     "output_type": "stream",
     "text": [
      "Avg Loss:0.6931 | Avg Acc:51.2\n"
     ]
    },
    {
     "name": "stderr",
     "output_type": "stream",
     "text": [
      "\n",
      "ValEpoch:31 | Loss:0.6660 | Acc:100.0:  41%|████      | 32/79 [00:05<00:08,  5.37it/s]"
     ]
    },
    {
     "name": "stdout",
     "output_type": "stream",
     "text": [
      "Avg Loss:0.6935 | Avg Acc:50.0\n"
     ]
    },
    {
     "name": "stderr",
     "output_type": "stream",
     "text": [
      "\n",
      "Epoch:32 | LR:0.00100 | Loss:0.6935 | Acc:50.0:  81%|████████  | 160/198 [03:08<00:44,  1.18s/it]\n"
     ]
    },
    {
     "name": "stdout",
     "output_type": "stream",
     "text": [
      "Avg Loss:0.6931 | Avg Acc:51.2\n"
     ]
    },
    {
     "name": "stderr",
     "output_type": "stream",
     "text": [
      "ValEpoch:32 | Loss:0.6660 | Acc:100.0:  41%|████      | 32/79 [00:05<00:08,  5.49it/s]"
     ]
    },
    {
     "name": "stdout",
     "output_type": "stream",
     "text": [
      "Avg Loss:0.6935 | Avg Acc:50.0\n"
     ]
    },
    {
     "name": "stderr",
     "output_type": "stream",
     "text": [
      "\n",
      "Epoch:33 | LR:0.00100 | Loss:0.6935 | Acc:50.0:  81%|████████  | 160/198 [03:08<00:44,  1.18s/it]"
     ]
    },
    {
     "name": "stdout",
     "output_type": "stream",
     "text": [
      "Avg Loss:0.6931 | Avg Acc:51.2\n"
     ]
    },
    {
     "name": "stderr",
     "output_type": "stream",
     "text": [
      "\n",
      "ValEpoch:33 | Loss:0.6659 | Acc:100.0:  41%|████      | 32/79 [00:05<00:08,  5.49it/s]"
     ]
    },
    {
     "name": "stdout",
     "output_type": "stream",
     "text": [
      "Avg Loss:0.6935 | Avg Acc:50.0\n"
     ]
    },
    {
     "name": "stderr",
     "output_type": "stream",
     "text": [
      "\n",
      "Epoch:34 | LR:0.00100 | Loss:0.6935 | Acc:50.0:  81%|████████  | 160/198 [03:07<00:44,  1.17s/it]\n"
     ]
    },
    {
     "name": "stdout",
     "output_type": "stream",
     "text": [
      "Avg Loss:0.6931 | Avg Acc:51.2\n"
     ]
    },
    {
     "name": "stderr",
     "output_type": "stream",
     "text": [
      "ValEpoch:34 | Loss:0.6659 | Acc:100.0:  41%|████      | 32/79 [00:05<00:08,  5.54it/s]"
     ]
    },
    {
     "name": "stdout",
     "output_type": "stream",
     "text": [
      "Avg Loss:0.6935 | Avg Acc:50.0\n"
     ]
    },
    {
     "name": "stderr",
     "output_type": "stream",
     "text": [
      "\n",
      "Epoch:35 | LR:0.00100 | Loss:0.6935 | Acc:50.0:  81%|████████  | 160/198 [03:07<00:44,  1.17s/it]"
     ]
    },
    {
     "name": "stdout",
     "output_type": "stream",
     "text": [
      "Avg Loss:0.6931 | Avg Acc:51.2\n"
     ]
    },
    {
     "name": "stderr",
     "output_type": "stream",
     "text": [
      "\n",
      "ValEpoch:35 | Loss:0.6659 | Acc:100.0:  41%|████      | 32/79 [00:06<00:09,  5.08it/s]"
     ]
    },
    {
     "name": "stdout",
     "output_type": "stream",
     "text": [
      "Avg Loss:0.6935 | Avg Acc:50.0\n"
     ]
    },
    {
     "name": "stderr",
     "output_type": "stream",
     "text": [
      "\n",
      "Epoch:36 | LR:0.00100 | Loss:0.6935 | Acc:50.0:  81%|████████  | 160/198 [03:08<00:44,  1.18s/it]\n"
     ]
    },
    {
     "name": "stdout",
     "output_type": "stream",
     "text": [
      "Avg Loss:0.6931 | Avg Acc:51.2\n"
     ]
    },
    {
     "name": "stderr",
     "output_type": "stream",
     "text": [
      "ValEpoch:36 | Loss:0.6659 | Acc:100.0:  41%|████      | 32/79 [00:05<00:08,  5.59it/s]"
     ]
    },
    {
     "name": "stdout",
     "output_type": "stream",
     "text": [
      "Avg Loss:0.6935 | Avg Acc:50.0\n"
     ]
    },
    {
     "name": "stderr",
     "output_type": "stream",
     "text": [
      "\n",
      "Epoch:37 | LR:0.00100 | Loss:0.6935 | Acc:50.0:  81%|████████  | 160/198 [03:08<00:44,  1.18s/it]"
     ]
    },
    {
     "name": "stdout",
     "output_type": "stream",
     "text": [
      "Avg Loss:0.6931 | Avg Acc:51.2\n"
     ]
    },
    {
     "name": "stderr",
     "output_type": "stream",
     "text": [
      "\n",
      "ValEpoch:37 | Loss:0.6659 | Acc:100.0:  41%|████      | 32/79 [00:05<00:08,  5.57it/s]"
     ]
    },
    {
     "name": "stdout",
     "output_type": "stream",
     "text": [
      "Avg Loss:0.6935 | Avg Acc:50.0\n"
     ]
    },
    {
     "name": "stderr",
     "output_type": "stream",
     "text": [
      "\n",
      "Epoch:38 | LR:0.00100 | Loss:0.6935 | Acc:50.0:  81%|████████  | 160/198 [03:08<00:44,  1.18s/it]\n"
     ]
    },
    {
     "name": "stdout",
     "output_type": "stream",
     "text": [
      "Avg Loss:0.6931 | Avg Acc:51.2\n"
     ]
    },
    {
     "name": "stderr",
     "output_type": "stream",
     "text": [
      "ValEpoch:38 | Loss:0.6659 | Acc:100.0:  41%|████      | 32/79 [00:05<00:08,  5.61it/s]"
     ]
    },
    {
     "name": "stdout",
     "output_type": "stream",
     "text": [
      "Avg Loss:0.6935 | Avg Acc:50.0\n"
     ]
    },
    {
     "name": "stderr",
     "output_type": "stream",
     "text": [
      "\n",
      "Epoch:39 | LR:0.00100 | Loss:0.6935 | Acc:50.0:  81%|████████  | 160/198 [03:07<00:44,  1.17s/it]"
     ]
    },
    {
     "name": "stdout",
     "output_type": "stream",
     "text": [
      "Avg Loss:0.6931 | Avg Acc:51.2\n"
     ]
    },
    {
     "name": "stderr",
     "output_type": "stream",
     "text": [
      "\n",
      "ValEpoch:39 | Loss:0.6659 | Acc:100.0:  41%|████      | 32/79 [00:05<00:08,  5.57it/s]"
     ]
    },
    {
     "name": "stdout",
     "output_type": "stream",
     "text": [
      "Avg Loss:0.6935 | Avg Acc:50.0\n"
     ]
    },
    {
     "name": "stderr",
     "output_type": "stream",
     "text": [
      "\n",
      "Epoch:40 | LR:0.00100 | Loss:0.6935 | Acc:50.0:  81%|████████  | 160/198 [03:08<00:44,  1.18s/it]\n"
     ]
    },
    {
     "name": "stdout",
     "output_type": "stream",
     "text": [
      "Avg Loss:0.6931 | Avg Acc:51.2\n"
     ]
    },
    {
     "name": "stderr",
     "output_type": "stream",
     "text": [
      "ValEpoch:40 | Loss:0.6659 | Acc:100.0:  41%|████      | 32/79 [00:05<00:08,  5.59it/s]"
     ]
    },
    {
     "name": "stdout",
     "output_type": "stream",
     "text": [
      "Avg Loss:0.6935 | Avg Acc:50.0\n"
     ]
    },
    {
     "name": "stderr",
     "output_type": "stream",
     "text": [
      "\n",
      "Epoch:41 | LR:0.00100 | Loss:0.6935 | Acc:50.0:  81%|████████  | 160/198 [03:07<00:44,  1.17s/it]"
     ]
    },
    {
     "name": "stdout",
     "output_type": "stream",
     "text": [
      "Avg Loss:0.6931 | Avg Acc:51.2\n"
     ]
    },
    {
     "name": "stderr",
     "output_type": "stream",
     "text": [
      "\n",
      "ValEpoch:41 | Loss:0.6659 | Acc:100.0:  41%|████      | 32/79 [00:06<00:08,  5.25it/s]"
     ]
    },
    {
     "name": "stdout",
     "output_type": "stream",
     "text": [
      "Avg Loss:0.6935 | Avg Acc:50.0\n"
     ]
    },
    {
     "name": "stderr",
     "output_type": "stream",
     "text": [
      "\n",
      "Epoch:42 | LR:0.00100 | Loss:0.6935 | Acc:50.0:  81%|████████  | 160/198 [03:08<00:44,  1.18s/it]\n"
     ]
    },
    {
     "name": "stdout",
     "output_type": "stream",
     "text": [
      "Avg Loss:0.6931 | Avg Acc:51.2\n"
     ]
    },
    {
     "name": "stderr",
     "output_type": "stream",
     "text": [
      "ValEpoch:42 | Loss:0.6659 | Acc:100.0:  41%|████      | 32/79 [00:05<00:08,  5.55it/s]"
     ]
    },
    {
     "name": "stdout",
     "output_type": "stream",
     "text": [
      "Avg Loss:0.6935 | Avg Acc:50.0\n"
     ]
    },
    {
     "name": "stderr",
     "output_type": "stream",
     "text": [
      "\n",
      "Epoch:43 | LR:0.00100 | Loss:0.6935 | Acc:50.0:  81%|████████  | 160/198 [03:07<00:44,  1.17s/it]"
     ]
    },
    {
     "name": "stdout",
     "output_type": "stream",
     "text": [
      "Avg Loss:0.6931 | Avg Acc:51.2\n"
     ]
    },
    {
     "name": "stderr",
     "output_type": "stream",
     "text": [
      "\n",
      "ValEpoch:43 | Loss:0.6659 | Acc:100.0:  41%|████      | 32/79 [00:06<00:08,  5.27it/s]"
     ]
    },
    {
     "name": "stdout",
     "output_type": "stream",
     "text": [
      "Avg Loss:0.6935 | Avg Acc:50.0\n"
     ]
    },
    {
     "name": "stderr",
     "output_type": "stream",
     "text": [
      "\n",
      "Epoch:44 | LR:0.00100 | Loss:0.6935 | Acc:50.0:  81%|████████  | 160/198 [03:07<00:44,  1.17s/it]\n"
     ]
    },
    {
     "name": "stdout",
     "output_type": "stream",
     "text": [
      "Avg Loss:0.6931 | Avg Acc:51.2\n"
     ]
    },
    {
     "name": "stderr",
     "output_type": "stream",
     "text": [
      "ValEpoch:44 | Loss:0.6659 | Acc:100.0:  41%|████      | 32/79 [00:05<00:08,  5.38it/s]"
     ]
    },
    {
     "name": "stdout",
     "output_type": "stream",
     "text": [
      "Avg Loss:0.6935 | Avg Acc:50.0\n"
     ]
    },
    {
     "name": "stderr",
     "output_type": "stream",
     "text": [
      "\n",
      "Epoch:45 | LR:0.00100 | Loss:0.6935 | Acc:50.0:  81%|████████  | 160/198 [03:07<00:44,  1.17s/it]"
     ]
    },
    {
     "name": "stdout",
     "output_type": "stream",
     "text": [
      "Avg Loss:0.6931 | Avg Acc:51.2\n"
     ]
    },
    {
     "name": "stderr",
     "output_type": "stream",
     "text": [
      "\n",
      "ValEpoch:45 | Loss:0.6659 | Acc:100.0:  41%|████      | 32/79 [00:06<00:09,  5.08it/s]"
     ]
    },
    {
     "name": "stdout",
     "output_type": "stream",
     "text": [
      "Avg Loss:0.6935 | Avg Acc:50.0\n"
     ]
    },
    {
     "name": "stderr",
     "output_type": "stream",
     "text": [
      "\n",
      "Epoch:46 | LR:0.00100 | Loss:0.6935 | Acc:50.0:  81%|████████  | 160/198 [03:07<00:44,  1.17s/it]\n"
     ]
    },
    {
     "name": "stdout",
     "output_type": "stream",
     "text": [
      "Avg Loss:0.6931 | Avg Acc:51.2\n"
     ]
    },
    {
     "name": "stderr",
     "output_type": "stream",
     "text": [
      "ValEpoch:46 | Loss:0.6659 | Acc:100.0:  41%|████      | 32/79 [00:05<00:08,  5.56it/s]"
     ]
    },
    {
     "name": "stdout",
     "output_type": "stream",
     "text": [
      "Avg Loss:0.6935 | Avg Acc:50.0\n"
     ]
    },
    {
     "name": "stderr",
     "output_type": "stream",
     "text": [
      "\n",
      "Epoch:47 | LR:0.00100 | Loss:0.6935 | Acc:50.0:  81%|████████  | 160/198 [03:07<00:44,  1.17s/it]"
     ]
    },
    {
     "name": "stdout",
     "output_type": "stream",
     "text": [
      "Avg Loss:0.6931 | Avg Acc:51.2\n"
     ]
    },
    {
     "name": "stderr",
     "output_type": "stream",
     "text": [
      "\n",
      "ValEpoch:47 | Loss:0.6659 | Acc:100.0:  41%|████      | 32/79 [00:05<00:08,  5.56it/s]"
     ]
    },
    {
     "name": "stdout",
     "output_type": "stream",
     "text": [
      "Avg Loss:0.6935 | Avg Acc:50.0\n"
     ]
    },
    {
     "name": "stderr",
     "output_type": "stream",
     "text": [
      "\n",
      "Epoch:48 | LR:0.00100 | Loss:0.6935 | Acc:50.0:  81%|████████  | 160/198 [03:08<00:44,  1.18s/it]\n"
     ]
    },
    {
     "name": "stdout",
     "output_type": "stream",
     "text": [
      "Avg Loss:0.6931 | Avg Acc:51.2\n"
     ]
    },
    {
     "name": "stderr",
     "output_type": "stream",
     "text": [
      "ValEpoch:48 | Loss:0.6659 | Acc:100.0:  41%|████      | 32/79 [00:05<00:08,  5.41it/s]"
     ]
    },
    {
     "name": "stdout",
     "output_type": "stream",
     "text": [
      "Avg Loss:0.6935 | Avg Acc:50.0\n"
     ]
    },
    {
     "name": "stderr",
     "output_type": "stream",
     "text": [
      "\n",
      "Epoch:49 | LR:0.00100 | Loss:0.6935 | Acc:50.0:  81%|████████  | 160/198 [03:08<00:44,  1.18s/it]"
     ]
    },
    {
     "name": "stdout",
     "output_type": "stream",
     "text": [
      "Avg Loss:0.6931 | Avg Acc:51.2\n"
     ]
    },
    {
     "name": "stderr",
     "output_type": "stream",
     "text": [
      "\n",
      "ValEpoch:49 | Loss:0.6659 | Acc:100.0:  41%|████      | 32/79 [00:06<00:09,  5.10it/s]"
     ]
    },
    {
     "name": "stdout",
     "output_type": "stream",
     "text": [
      "Avg Loss:0.6935 | Avg Acc:50.0\n"
     ]
    },
    {
     "name": "stderr",
     "output_type": "stream",
     "text": [
      "\n",
      "Epoch:50 | LR:0.00010 | Loss:0.6935 | Acc:50.0:  81%|████████  | 160/198 [03:08<00:44,  1.18s/it]\n"
     ]
    },
    {
     "name": "stdout",
     "output_type": "stream",
     "text": [
      "Avg Loss:0.6929 | Avg Acc:51.2\n"
     ]
    },
    {
     "name": "stderr",
     "output_type": "stream",
     "text": [
      "ValEpoch:50 | Loss:0.6660 | Acc:100.0:  41%|████      | 32/79 [00:05<00:08,  5.62it/s]"
     ]
    },
    {
     "name": "stdout",
     "output_type": "stream",
     "text": [
      "Avg Loss:0.6935 | Avg Acc:50.0\n"
     ]
    },
    {
     "name": "stderr",
     "output_type": "stream",
     "text": [
      "\n",
      "Epoch:51 | LR:0.00010 | Loss:0.6935 | Acc:50.0:  81%|████████  | 160/198 [03:07<00:44,  1.17s/it]"
     ]
    },
    {
     "name": "stdout",
     "output_type": "stream",
     "text": [
      "Avg Loss:0.6929 | Avg Acc:51.2\n"
     ]
    },
    {
     "name": "stderr",
     "output_type": "stream",
     "text": [
      "\n",
      "ValEpoch:51 | Loss:0.6660 | Acc:100.0:  41%|████      | 32/79 [00:05<00:08,  5.53it/s]"
     ]
    },
    {
     "name": "stdout",
     "output_type": "stream",
     "text": [
      "Avg Loss:0.6935 | Avg Acc:50.0\n"
     ]
    },
    {
     "name": "stderr",
     "output_type": "stream",
     "text": [
      "\n",
      "Epoch:52 | LR:0.00010 | Loss:0.6935 | Acc:50.0:  81%|████████  | 160/198 [03:07<00:44,  1.17s/it]\n"
     ]
    },
    {
     "name": "stdout",
     "output_type": "stream",
     "text": [
      "Avg Loss:0.6929 | Avg Acc:51.2\n"
     ]
    },
    {
     "name": "stderr",
     "output_type": "stream",
     "text": [
      "ValEpoch:52 | Loss:0.6661 | Acc:100.0:  41%|████      | 32/79 [00:05<00:08,  5.60it/s]"
     ]
    },
    {
     "name": "stdout",
     "output_type": "stream",
     "text": [
      "Avg Loss:0.6935 | Avg Acc:50.0\n"
     ]
    },
    {
     "name": "stderr",
     "output_type": "stream",
     "text": [
      "\n",
      "Epoch:53 | LR:0.00010 | Loss:0.6935 | Acc:50.0:  81%|████████  | 160/198 [03:08<00:44,  1.18s/it]\n"
     ]
    },
    {
     "name": "stdout",
     "output_type": "stream",
     "text": [
      "Avg Loss:0.6929 | Avg Acc:51.2\n"
     ]
    },
    {
     "name": "stderr",
     "output_type": "stream",
     "text": [
      "ValEpoch:53 | Loss:0.6662 | Acc:100.0:  41%|████      | 32/79 [00:06<00:09,  5.09it/s]"
     ]
    },
    {
     "name": "stdout",
     "output_type": "stream",
     "text": [
      "Avg Loss:0.6935 | Avg Acc:50.0\n"
     ]
    },
    {
     "name": "stderr",
     "output_type": "stream",
     "text": [
      "\n",
      "Epoch:54 | LR:0.00010 | Loss:0.6935 | Acc:50.0:  81%|████████  | 160/198 [03:08<00:44,  1.18s/it]\n"
     ]
    },
    {
     "name": "stdout",
     "output_type": "stream",
     "text": [
      "Avg Loss:0.6929 | Avg Acc:51.2\n"
     ]
    },
    {
     "name": "stderr",
     "output_type": "stream",
     "text": [
      "ValEpoch:54 | Loss:0.6662 | Acc:100.0:  41%|████      | 32/79 [00:05<00:08,  5.52it/s]"
     ]
    },
    {
     "name": "stdout",
     "output_type": "stream",
     "text": [
      "Avg Loss:0.6935 | Avg Acc:50.0\n"
     ]
    },
    {
     "name": "stderr",
     "output_type": "stream",
     "text": [
      "\n",
      "Epoch:55 | LR:0.00010 | Loss:0.6935 | Acc:50.0:  81%|████████  | 160/198 [03:07<00:44,  1.17s/it]"
     ]
    },
    {
     "name": "stdout",
     "output_type": "stream",
     "text": [
      "Avg Loss:0.6929 | Avg Acc:51.2\n"
     ]
    },
    {
     "name": "stderr",
     "output_type": "stream",
     "text": [
      "\n",
      "ValEpoch:55 | Loss:0.6662 | Acc:100.0:  41%|████      | 32/79 [00:05<00:08,  5.66it/s]"
     ]
    },
    {
     "name": "stdout",
     "output_type": "stream",
     "text": [
      "Avg Loss:0.6935 | Avg Acc:50.0\n"
     ]
    },
    {
     "name": "stderr",
     "output_type": "stream",
     "text": [
      "\n",
      "Epoch:56 | LR:0.00010 | Loss:0.6935 | Acc:50.0:  81%|████████  | 160/198 [03:08<00:44,  1.18s/it]\n"
     ]
    },
    {
     "name": "stdout",
     "output_type": "stream",
     "text": [
      "Avg Loss:0.6929 | Avg Acc:51.2\n"
     ]
    },
    {
     "name": "stderr",
     "output_type": "stream",
     "text": [
      "ValEpoch:56 | Loss:0.6663 | Acc:100.0:  41%|████      | 32/79 [00:06<00:09,  5.03it/s]"
     ]
    },
    {
     "name": "stdout",
     "output_type": "stream",
     "text": [
      "Avg Loss:0.6935 | Avg Acc:50.0\n"
     ]
    },
    {
     "name": "stderr",
     "output_type": "stream",
     "text": [
      "\n",
      "Epoch:57 | LR:0.00010 | Loss:0.6935 | Acc:50.0:  81%|████████  | 160/198 [03:08<00:44,  1.18s/it]"
     ]
    },
    {
     "name": "stdout",
     "output_type": "stream",
     "text": [
      "Avg Loss:0.6929 | Avg Acc:51.2\n"
     ]
    },
    {
     "name": "stderr",
     "output_type": "stream",
     "text": [
      "\n",
      "ValEpoch:57 | Loss:0.6663 | Acc:100.0:  41%|████      | 32/79 [00:05<00:08,  5.54it/s]"
     ]
    },
    {
     "name": "stdout",
     "output_type": "stream",
     "text": [
      "Avg Loss:0.6935 | Avg Acc:50.0\n"
     ]
    },
    {
     "name": "stderr",
     "output_type": "stream",
     "text": [
      "\n",
      "Epoch:58 | LR:0.00010 | Loss:0.6935 | Acc:50.0:  81%|████████  | 160/198 [03:08<00:44,  1.18s/it]\n"
     ]
    },
    {
     "name": "stdout",
     "output_type": "stream",
     "text": [
      "Avg Loss:0.6929 | Avg Acc:51.2\n"
     ]
    },
    {
     "name": "stderr",
     "output_type": "stream",
     "text": [
      "ValEpoch:58 | Loss:0.6664 | Acc:100.0:  41%|████      | 32/79 [00:05<00:08,  5.61it/s]"
     ]
    },
    {
     "name": "stdout",
     "output_type": "stream",
     "text": [
      "Avg Loss:0.6935 | Avg Acc:50.0\n"
     ]
    },
    {
     "name": "stderr",
     "output_type": "stream",
     "text": [
      "\n",
      "Epoch:59 | LR:0.00010 | Loss:0.6935 | Acc:50.0:  81%|████████  | 160/198 [03:08<00:44,  1.18s/it]"
     ]
    },
    {
     "name": "stdout",
     "output_type": "stream",
     "text": [
      "Avg Loss:0.6929 | Avg Acc:51.2\n"
     ]
    },
    {
     "name": "stderr",
     "output_type": "stream",
     "text": [
      "\n",
      "ValEpoch:59 | Loss:0.6664 | Acc:100.0:  41%|████      | 32/79 [00:06<00:09,  5.07it/s]"
     ]
    },
    {
     "name": "stdout",
     "output_type": "stream",
     "text": [
      "Avg Loss:0.6935 | Avg Acc:50.0\n"
     ]
    },
    {
     "name": "stderr",
     "output_type": "stream",
     "text": [
      "\n",
      "Epoch:60 | LR:0.00010 | Loss:0.6935 | Acc:50.0:  81%|████████  | 160/198 [03:08<00:44,  1.18s/it]\n"
     ]
    },
    {
     "name": "stdout",
     "output_type": "stream",
     "text": [
      "Avg Loss:0.6929 | Avg Acc:51.2\n"
     ]
    },
    {
     "name": "stderr",
     "output_type": "stream",
     "text": [
      "ValEpoch:60 | Loss:0.6665 | Acc:100.0:  41%|████      | 32/79 [00:05<00:08,  5.55it/s]"
     ]
    },
    {
     "name": "stdout",
     "output_type": "stream",
     "text": [
      "Avg Loss:0.6935 | Avg Acc:50.0\n"
     ]
    },
    {
     "name": "stderr",
     "output_type": "stream",
     "text": [
      "\n",
      "Epoch:61 | LR:0.00010 | Loss:0.6935 | Acc:50.0:  81%|████████  | 160/198 [03:08<00:44,  1.18s/it]"
     ]
    },
    {
     "name": "stdout",
     "output_type": "stream",
     "text": [
      "Avg Loss:0.6929 | Avg Acc:51.2\n"
     ]
    },
    {
     "name": "stderr",
     "output_type": "stream",
     "text": [
      "\n",
      "ValEpoch:61 | Loss:0.6665 | Acc:100.0:  41%|████      | 32/79 [00:05<00:08,  5.58it/s]"
     ]
    },
    {
     "name": "stdout",
     "output_type": "stream",
     "text": [
      "Avg Loss:0.6935 | Avg Acc:50.0\n"
     ]
    },
    {
     "name": "stderr",
     "output_type": "stream",
     "text": [
      "\n",
      "Epoch:62 | LR:0.00010 | Loss:0.6935 | Acc:50.0:  81%|████████  | 160/198 [03:08<00:44,  1.18s/it]\n"
     ]
    },
    {
     "name": "stdout",
     "output_type": "stream",
     "text": [
      "Avg Loss:0.6929 | Avg Acc:51.2\n"
     ]
    },
    {
     "name": "stderr",
     "output_type": "stream",
     "text": [
      "ValEpoch:62 | Loss:0.6666 | Acc:100.0:  41%|████      | 32/79 [00:05<00:08,  5.48it/s]"
     ]
    },
    {
     "name": "stdout",
     "output_type": "stream",
     "text": [
      "Avg Loss:0.6935 | Avg Acc:50.0\n"
     ]
    },
    {
     "name": "stderr",
     "output_type": "stream",
     "text": [
      "\n",
      "Epoch:63 | LR:0.00010 | Loss:0.6935 | Acc:50.0:  81%|████████  | 160/198 [03:08<00:44,  1.18s/it]"
     ]
    },
    {
     "name": "stdout",
     "output_type": "stream",
     "text": [
      "Avg Loss:0.6929 | Avg Acc:51.2\n"
     ]
    },
    {
     "name": "stderr",
     "output_type": "stream",
     "text": [
      "\n",
      "ValEpoch:63 | Loss:0.6666 | Acc:100.0:  41%|████      | 32/79 [00:05<00:08,  5.53it/s]"
     ]
    },
    {
     "name": "stdout",
     "output_type": "stream",
     "text": [
      "Avg Loss:0.6935 | Avg Acc:50.0\n"
     ]
    },
    {
     "name": "stderr",
     "output_type": "stream",
     "text": [
      "\n",
      "Epoch:64 | LR:0.00010 | Loss:0.6935 | Acc:50.0:  81%|████████  | 160/198 [03:08<00:44,  1.18s/it]\n"
     ]
    },
    {
     "name": "stdout",
     "output_type": "stream",
     "text": [
      "Avg Loss:0.6929 | Avg Acc:51.2\n"
     ]
    },
    {
     "name": "stderr",
     "output_type": "stream",
     "text": [
      "ValEpoch:64 | Loss:0.6666 | Acc:100.0:  41%|████      | 32/79 [00:05<00:08,  5.62it/s]"
     ]
    },
    {
     "name": "stdout",
     "output_type": "stream",
     "text": [
      "Avg Loss:0.6935 | Avg Acc:50.0\n"
     ]
    },
    {
     "name": "stderr",
     "output_type": "stream",
     "text": [
      "\n",
      "Epoch:65 | LR:0.00010 | Loss:0.6935 | Acc:50.0:  81%|████████  | 160/198 [03:08<00:44,  1.18s/it]"
     ]
    },
    {
     "name": "stdout",
     "output_type": "stream",
     "text": [
      "Avg Loss:0.6929 | Avg Acc:51.2\n"
     ]
    },
    {
     "name": "stderr",
     "output_type": "stream",
     "text": [
      "\n",
      "ValEpoch:65 | Loss:0.6667 | Acc:100.0:  41%|████      | 32/79 [00:05<00:08,  5.58it/s]"
     ]
    },
    {
     "name": "stdout",
     "output_type": "stream",
     "text": [
      "Avg Loss:0.6935 | Avg Acc:50.0\n"
     ]
    },
    {
     "name": "stderr",
     "output_type": "stream",
     "text": [
      "\n",
      "Epoch:66 | LR:0.00010 | Loss:0.6935 | Acc:50.0:  81%|████████  | 160/198 [03:08<00:44,  1.18s/it]\n"
     ]
    },
    {
     "name": "stdout",
     "output_type": "stream",
     "text": [
      "Avg Loss:0.6929 | Avg Acc:51.2\n"
     ]
    },
    {
     "name": "stderr",
     "output_type": "stream",
     "text": [
      "ValEpoch:66 | Loss:0.6667 | Acc:100.0:  41%|████      | 32/79 [00:05<00:08,  5.59it/s]"
     ]
    },
    {
     "name": "stdout",
     "output_type": "stream",
     "text": [
      "Avg Loss:0.6935 | Avg Acc:50.0\n"
     ]
    },
    {
     "name": "stderr",
     "output_type": "stream",
     "text": [
      "\n",
      "Epoch:67 | LR:0.00010 | Loss:0.6935 | Acc:50.0:  81%|████████  | 160/198 [03:08<00:44,  1.18s/it]"
     ]
    },
    {
     "name": "stdout",
     "output_type": "stream",
     "text": [
      "Avg Loss:0.6929 | Avg Acc:51.2\n"
     ]
    },
    {
     "name": "stderr",
     "output_type": "stream",
     "text": [
      "\n",
      "ValEpoch:67 | Loss:0.6667 | Acc:100.0:  41%|████      | 32/79 [00:05<00:08,  5.51it/s]"
     ]
    },
    {
     "name": "stdout",
     "output_type": "stream",
     "text": [
      "Avg Loss:0.6935 | Avg Acc:50.0\n"
     ]
    },
    {
     "name": "stderr",
     "output_type": "stream",
     "text": [
      "\n",
      "Epoch:68 | LR:0.00010 | Loss:0.6935 | Acc:50.0:  81%|████████  | 160/198 [03:07<00:44,  1.17s/it]\n"
     ]
    },
    {
     "name": "stdout",
     "output_type": "stream",
     "text": [
      "Avg Loss:0.6929 | Avg Acc:51.2\n"
     ]
    },
    {
     "name": "stderr",
     "output_type": "stream",
     "text": [
      "ValEpoch:68 | Loss:0.6668 | Acc:100.0:  41%|████      | 32/79 [00:06<00:09,  4.99it/s]"
     ]
    },
    {
     "name": "stdout",
     "output_type": "stream",
     "text": [
      "Avg Loss:0.6935 | Avg Acc:50.0\n"
     ]
    },
    {
     "name": "stderr",
     "output_type": "stream",
     "text": [
      "\n",
      "Epoch:69 | LR:0.00010 | Loss:0.6935 | Acc:50.0:  81%|████████  | 160/198 [03:08<00:44,  1.18s/it]"
     ]
    },
    {
     "name": "stdout",
     "output_type": "stream",
     "text": [
      "Avg Loss:0.6929 | Avg Acc:51.2\n"
     ]
    },
    {
     "name": "stderr",
     "output_type": "stream",
     "text": [
      "\n",
      "ValEpoch:69 | Loss:0.6668 | Acc:100.0:  41%|████      | 32/79 [00:05<00:08,  5.63it/s]"
     ]
    },
    {
     "name": "stdout",
     "output_type": "stream",
     "text": [
      "Avg Loss:0.6935 | Avg Acc:50.0\n"
     ]
    },
    {
     "name": "stderr",
     "output_type": "stream",
     "text": [
      "\n",
      "Epoch:70 | LR:0.00010 | Loss:0.6935 | Acc:50.0:  81%|████████  | 160/198 [03:07<00:44,  1.17s/it]\n"
     ]
    },
    {
     "name": "stdout",
     "output_type": "stream",
     "text": [
      "Avg Loss:0.6929 | Avg Acc:51.2\n"
     ]
    },
    {
     "name": "stderr",
     "output_type": "stream",
     "text": [
      "ValEpoch:70 | Loss:0.6669 | Acc:100.0:  41%|████      | 32/79 [00:05<00:08,  5.51it/s]"
     ]
    },
    {
     "name": "stdout",
     "output_type": "stream",
     "text": [
      "Avg Loss:0.6935 | Avg Acc:50.0\n"
     ]
    },
    {
     "name": "stderr",
     "output_type": "stream",
     "text": [
      "\n",
      "Epoch:71 | LR:0.00010 | Loss:0.6935 | Acc:50.0:  81%|████████  | 160/198 [03:07<00:44,  1.17s/it]"
     ]
    },
    {
     "name": "stdout",
     "output_type": "stream",
     "text": [
      "Avg Loss:0.6929 | Avg Acc:51.2\n"
     ]
    },
    {
     "name": "stderr",
     "output_type": "stream",
     "text": [
      "\n",
      "ValEpoch:71 | Loss:0.6669 | Acc:100.0:  41%|████      | 32/79 [00:05<00:08,  5.39it/s]"
     ]
    },
    {
     "name": "stdout",
     "output_type": "stream",
     "text": [
      "Avg Loss:0.6935 | Avg Acc:50.0\n"
     ]
    },
    {
     "name": "stderr",
     "output_type": "stream",
     "text": [
      "\n",
      "Epoch:72 | LR:0.00010 | Loss:0.6935 | Acc:50.0:  81%|████████  | 160/198 [03:07<00:44,  1.17s/it]\n"
     ]
    },
    {
     "name": "stdout",
     "output_type": "stream",
     "text": [
      "Avg Loss:0.6929 | Avg Acc:51.2\n"
     ]
    },
    {
     "name": "stderr",
     "output_type": "stream",
     "text": [
      "ValEpoch:72 | Loss:0.6669 | Acc:100.0:  41%|████      | 32/79 [00:05<00:08,  5.38it/s]"
     ]
    },
    {
     "name": "stdout",
     "output_type": "stream",
     "text": [
      "Avg Loss:0.6935 | Avg Acc:50.0\n"
     ]
    },
    {
     "name": "stderr",
     "output_type": "stream",
     "text": [
      "\n",
      "Epoch:73 | LR:0.00010 | Loss:0.6935 | Acc:50.0:  81%|████████  | 160/198 [03:07<00:44,  1.17s/it]"
     ]
    },
    {
     "name": "stdout",
     "output_type": "stream",
     "text": [
      "Avg Loss:0.6929 | Avg Acc:51.2\n"
     ]
    },
    {
     "name": "stderr",
     "output_type": "stream",
     "text": [
      "\n",
      "ValEpoch:73 | Loss:0.6669 | Acc:100.0:  41%|████      | 32/79 [00:05<00:08,  5.55it/s]"
     ]
    },
    {
     "name": "stdout",
     "output_type": "stream",
     "text": [
      "Avg Loss:0.6935 | Avg Acc:50.0\n"
     ]
    },
    {
     "name": "stderr",
     "output_type": "stream",
     "text": [
      "\n",
      "Epoch:74 | LR:0.00010 | Loss:0.6935 | Acc:50.0:  81%|████████  | 160/198 [03:08<00:44,  1.18s/it]\n"
     ]
    },
    {
     "name": "stdout",
     "output_type": "stream",
     "text": [
      "Avg Loss:0.6929 | Avg Acc:51.2\n"
     ]
    },
    {
     "name": "stderr",
     "output_type": "stream",
     "text": [
      "ValEpoch:74 | Loss:0.6670 | Acc:100.0:  41%|████      | 32/79 [00:05<00:08,  5.62it/s]"
     ]
    },
    {
     "name": "stdout",
     "output_type": "stream",
     "text": [
      "Avg Loss:0.6935 | Avg Acc:50.0\n"
     ]
    },
    {
     "name": "stderr",
     "output_type": "stream",
     "text": [
      "\n",
      "Epoch:75 | LR:0.00010 | Loss:0.6935 | Acc:50.0:  81%|████████  | 160/198 [03:08<00:44,  1.18s/it]"
     ]
    },
    {
     "name": "stdout",
     "output_type": "stream",
     "text": [
      "Avg Loss:0.6929 | Avg Acc:51.2\n"
     ]
    },
    {
     "name": "stderr",
     "output_type": "stream",
     "text": [
      "\n",
      "ValEpoch:75 | Loss:0.6670 | Acc:100.0:  41%|████      | 32/79 [00:06<00:09,  4.95it/s]"
     ]
    },
    {
     "name": "stdout",
     "output_type": "stream",
     "text": [
      "Avg Loss:0.6935 | Avg Acc:50.0\n"
     ]
    },
    {
     "name": "stderr",
     "output_type": "stream",
     "text": [
      "\n",
      "Epoch:76 | LR:0.00010 | Loss:0.6935 | Acc:50.0:  81%|████████  | 160/198 [03:08<00:44,  1.18s/it]\n"
     ]
    },
    {
     "name": "stdout",
     "output_type": "stream",
     "text": [
      "Avg Loss:0.6929 | Avg Acc:51.2\n"
     ]
    },
    {
     "name": "stderr",
     "output_type": "stream",
     "text": [
      "ValEpoch:76 | Loss:0.6670 | Acc:100.0:  41%|████      | 32/79 [00:05<00:08,  5.52it/s]"
     ]
    },
    {
     "name": "stdout",
     "output_type": "stream",
     "text": [
      "Avg Loss:0.6935 | Avg Acc:50.0\n"
     ]
    },
    {
     "name": "stderr",
     "output_type": "stream",
     "text": [
      "\n",
      "Epoch:77 | LR:0.00010 | Loss:0.6935 | Acc:50.0:  81%|████████  | 160/198 [03:08<00:44,  1.18s/it]"
     ]
    },
    {
     "name": "stdout",
     "output_type": "stream",
     "text": [
      "Avg Loss:0.6929 | Avg Acc:51.2\n"
     ]
    },
    {
     "name": "stderr",
     "output_type": "stream",
     "text": [
      "\n",
      "ValEpoch:77 | Loss:0.6671 | Acc:100.0:  41%|████      | 32/79 [00:05<00:08,  5.61it/s]"
     ]
    },
    {
     "name": "stdout",
     "output_type": "stream",
     "text": [
      "Avg Loss:0.6935 | Avg Acc:50.0\n"
     ]
    },
    {
     "name": "stderr",
     "output_type": "stream",
     "text": [
      "\n",
      "Epoch:78 | LR:0.00010 | Loss:0.6935 | Acc:50.0:  81%|████████  | 160/198 [03:08<00:44,  1.18s/it]\n"
     ]
    },
    {
     "name": "stdout",
     "output_type": "stream",
     "text": [
      "Avg Loss:0.6929 | Avg Acc:51.2\n"
     ]
    },
    {
     "name": "stderr",
     "output_type": "stream",
     "text": [
      "ValEpoch:78 | Loss:0.6671 | Acc:100.0:  41%|████      | 32/79 [00:05<00:08,  5.49it/s]"
     ]
    },
    {
     "name": "stdout",
     "output_type": "stream",
     "text": [
      "Avg Loss:0.6935 | Avg Acc:50.0\n"
     ]
    },
    {
     "name": "stderr",
     "output_type": "stream",
     "text": [
      "\n",
      "Epoch:79 | LR:0.00010 | Loss:0.6935 | Acc:50.0:  81%|████████  | 160/198 [03:07<00:44,  1.17s/it]"
     ]
    },
    {
     "name": "stdout",
     "output_type": "stream",
     "text": [
      "Avg Loss:0.6929 | Avg Acc:51.2\n"
     ]
    },
    {
     "name": "stderr",
     "output_type": "stream",
     "text": [
      "\n",
      "ValEpoch:79 | Loss:0.6671 | Acc:100.0:  41%|████      | 32/79 [00:05<00:08,  5.50it/s]"
     ]
    },
    {
     "name": "stdout",
     "output_type": "stream",
     "text": [
      "Avg Loss:0.6935 | Avg Acc:50.0\n"
     ]
    },
    {
     "name": "stderr",
     "output_type": "stream",
     "text": [
      "\n",
      "Epoch:80 | LR:0.00010 | Loss:0.6935 | Acc:50.0:  81%|████████  | 160/198 [03:07<00:44,  1.17s/it]\n"
     ]
    },
    {
     "name": "stdout",
     "output_type": "stream",
     "text": [
      "Avg Loss:0.6929 | Avg Acc:51.2\n"
     ]
    },
    {
     "name": "stderr",
     "output_type": "stream",
     "text": [
      "ValEpoch:80 | Loss:0.6671 | Acc:100.0:  41%|████      | 32/79 [00:05<00:08,  5.39it/s]"
     ]
    },
    {
     "name": "stdout",
     "output_type": "stream",
     "text": [
      "Avg Loss:0.6935 | Avg Acc:50.0\n"
     ]
    },
    {
     "name": "stderr",
     "output_type": "stream",
     "text": [
      "\n",
      "Epoch:81 | LR:0.00010 | Loss:0.6935 | Acc:50.0:  81%|████████  | 160/198 [03:07<00:44,  1.17s/it]"
     ]
    },
    {
     "name": "stdout",
     "output_type": "stream",
     "text": [
      "Avg Loss:0.6929 | Avg Acc:51.2\n"
     ]
    },
    {
     "name": "stderr",
     "output_type": "stream",
     "text": [
      "\n",
      "ValEpoch:81 | Loss:0.6672 | Acc:100.0:  41%|████      | 32/79 [00:05<00:08,  5.53it/s]"
     ]
    },
    {
     "name": "stdout",
     "output_type": "stream",
     "text": [
      "Avg Loss:0.6935 | Avg Acc:50.0\n"
     ]
    },
    {
     "name": "stderr",
     "output_type": "stream",
     "text": [
      "\n",
      "Epoch:82 | LR:0.00010 | Loss:0.6935 | Acc:50.0:  81%|████████  | 160/198 [03:07<00:44,  1.17s/it]\n"
     ]
    },
    {
     "name": "stdout",
     "output_type": "stream",
     "text": [
      "Avg Loss:0.6929 | Avg Acc:51.2\n"
     ]
    },
    {
     "name": "stderr",
     "output_type": "stream",
     "text": [
      "ValEpoch:82 | Loss:0.6672 | Acc:100.0:  41%|████      | 32/79 [00:05<00:08,  5.61it/s]"
     ]
    },
    {
     "name": "stdout",
     "output_type": "stream",
     "text": [
      "Avg Loss:0.6935 | Avg Acc:50.0\n"
     ]
    },
    {
     "name": "stderr",
     "output_type": "stream",
     "text": [
      "\n",
      "Epoch:83 | LR:0.00010 | Loss:0.6935 | Acc:50.0:  81%|████████  | 160/198 [03:08<00:44,  1.18s/it]"
     ]
    },
    {
     "name": "stdout",
     "output_type": "stream",
     "text": [
      "Avg Loss:0.6929 | Avg Acc:51.2\n"
     ]
    },
    {
     "name": "stderr",
     "output_type": "stream",
     "text": [
      "\n",
      "ValEpoch:83 | Loss:0.6672 | Acc:100.0:  41%|████      | 32/79 [00:05<00:08,  5.50it/s]"
     ]
    },
    {
     "name": "stdout",
     "output_type": "stream",
     "text": [
      "Avg Loss:0.6935 | Avg Acc:50.0\n"
     ]
    },
    {
     "name": "stderr",
     "output_type": "stream",
     "text": [
      "\n",
      "Epoch:84 | LR:0.00010 | Loss:0.6935 | Acc:50.0:  81%|████████  | 160/198 [03:07<00:44,  1.17s/it]\n"
     ]
    },
    {
     "name": "stdout",
     "output_type": "stream",
     "text": [
      "Avg Loss:0.6929 | Avg Acc:51.2\n"
     ]
    },
    {
     "name": "stderr",
     "output_type": "stream",
     "text": [
      "ValEpoch:84 | Loss:0.6672 | Acc:100.0:  41%|████      | 32/79 [00:05<00:08,  5.48it/s]"
     ]
    },
    {
     "name": "stdout",
     "output_type": "stream",
     "text": [
      "Avg Loss:0.6935 | Avg Acc:50.0\n"
     ]
    },
    {
     "name": "stderr",
     "output_type": "stream",
     "text": [
      "\n",
      "Epoch:85 | LR:0.00010 | Loss:0.6935 | Acc:50.0:  81%|████████  | 160/198 [03:08<00:44,  1.18s/it]"
     ]
    },
    {
     "name": "stdout",
     "output_type": "stream",
     "text": [
      "Avg Loss:0.6929 | Avg Acc:51.2\n"
     ]
    },
    {
     "name": "stderr",
     "output_type": "stream",
     "text": [
      "\n",
      "ValEpoch:85 | Loss:0.6673 | Acc:100.0:  41%|████      | 32/79 [00:05<00:08,  5.63it/s]"
     ]
    },
    {
     "name": "stdout",
     "output_type": "stream",
     "text": [
      "Avg Loss:0.6935 | Avg Acc:50.0\n"
     ]
    },
    {
     "name": "stderr",
     "output_type": "stream",
     "text": [
      "\n",
      "Epoch:86 | LR:0.00010 | Loss:0.6935 | Acc:50.0:  81%|████████  | 160/198 [03:08<00:44,  1.18s/it]\n"
     ]
    },
    {
     "name": "stdout",
     "output_type": "stream",
     "text": [
      "Avg Loss:0.6929 | Avg Acc:51.2\n"
     ]
    },
    {
     "name": "stderr",
     "output_type": "stream",
     "text": [
      "ValEpoch:86 | Loss:0.6673 | Acc:100.0:  41%|████      | 32/79 [00:05<00:08,  5.47it/s]"
     ]
    },
    {
     "name": "stdout",
     "output_type": "stream",
     "text": [
      "Avg Loss:0.6935 | Avg Acc:50.0\n"
     ]
    },
    {
     "name": "stderr",
     "output_type": "stream",
     "text": [
      "\n",
      "Epoch:87 | LR:0.00010 | Loss:0.6935 | Acc:50.0:  81%|████████  | 160/198 [03:08<00:44,  1.18s/it]"
     ]
    },
    {
     "name": "stdout",
     "output_type": "stream",
     "text": [
      "Avg Loss:0.6929 | Avg Acc:51.2\n"
     ]
    },
    {
     "name": "stderr",
     "output_type": "stream",
     "text": [
      "\n",
      "ValEpoch:87 | Loss:0.6673 | Acc:100.0:  41%|████      | 32/79 [00:05<00:08,  5.52it/s]"
     ]
    },
    {
     "name": "stdout",
     "output_type": "stream",
     "text": [
      "Avg Loss:0.6935 | Avg Acc:50.0\n"
     ]
    },
    {
     "name": "stderr",
     "output_type": "stream",
     "text": [
      "\n",
      "Epoch:88 | LR:0.00010 | Loss:0.6935 | Acc:50.0:  81%|████████  | 160/198 [03:08<00:44,  1.18s/it]\n"
     ]
    },
    {
     "name": "stdout",
     "output_type": "stream",
     "text": [
      "Avg Loss:0.6929 | Avg Acc:51.2\n"
     ]
    },
    {
     "name": "stderr",
     "output_type": "stream",
     "text": [
      "ValEpoch:88 | Loss:0.6673 | Acc:100.0:  41%|████      | 32/79 [00:05<00:08,  5.61it/s]"
     ]
    },
    {
     "name": "stdout",
     "output_type": "stream",
     "text": [
      "Avg Loss:0.6935 | Avg Acc:50.0\n"
     ]
    },
    {
     "name": "stderr",
     "output_type": "stream",
     "text": [
      "\n",
      "Epoch:89 | LR:0.00010 | Loss:0.6935 | Acc:50.0:  81%|████████  | 160/198 [03:08<00:44,  1.18s/it]"
     ]
    },
    {
     "name": "stdout",
     "output_type": "stream",
     "text": [
      "Avg Loss:0.6929 | Avg Acc:51.2\n"
     ]
    },
    {
     "name": "stderr",
     "output_type": "stream",
     "text": [
      "\n",
      "ValEpoch:89 | Loss:0.6674 | Acc:100.0:  41%|████      | 32/79 [00:05<00:08,  5.53it/s]"
     ]
    },
    {
     "name": "stdout",
     "output_type": "stream",
     "text": [
      "Avg Loss:0.6935 | Avg Acc:50.0\n"
     ]
    },
    {
     "name": "stderr",
     "output_type": "stream",
     "text": [
      "\n",
      "Epoch:90 | LR:0.00001 | Loss:0.6935 | Acc:50.0:  81%|████████  | 160/198 [03:08<00:44,  1.18s/it]\n"
     ]
    },
    {
     "name": "stdout",
     "output_type": "stream",
     "text": [
      "Avg Loss:0.6928 | Avg Acc:51.2\n"
     ]
    },
    {
     "name": "stderr",
     "output_type": "stream",
     "text": [
      "ValEpoch:90 | Loss:0.6674 | Acc:100.0:  41%|████      | 32/79 [00:05<00:08,  5.56it/s]"
     ]
    },
    {
     "name": "stdout",
     "output_type": "stream",
     "text": [
      "Avg Loss:0.6935 | Avg Acc:50.0\n"
     ]
    },
    {
     "name": "stderr",
     "output_type": "stream",
     "text": [
      "\n",
      "Epoch:91 | LR:0.00001 | Loss:0.6935 | Acc:50.0:  81%|████████  | 160/198 [03:08<00:44,  1.18s/it]"
     ]
    },
    {
     "name": "stdout",
     "output_type": "stream",
     "text": [
      "Avg Loss:0.6928 | Avg Acc:51.2\n"
     ]
    },
    {
     "name": "stderr",
     "output_type": "stream",
     "text": [
      "\n",
      "ValEpoch:91 | Loss:0.6674 | Acc:100.0:  41%|████      | 32/79 [00:05<00:08,  5.58it/s]"
     ]
    },
    {
     "name": "stdout",
     "output_type": "stream",
     "text": [
      "Avg Loss:0.6935 | Avg Acc:50.0\n"
     ]
    },
    {
     "name": "stderr",
     "output_type": "stream",
     "text": [
      "\n",
      "Epoch:92 | LR:0.00001 | Loss:0.6935 | Acc:50.0:  81%|████████  | 160/198 [03:08<00:44,  1.18s/it]\n"
     ]
    },
    {
     "name": "stdout",
     "output_type": "stream",
     "text": [
      "Avg Loss:0.6928 | Avg Acc:51.2\n"
     ]
    },
    {
     "name": "stderr",
     "output_type": "stream",
     "text": [
      "ValEpoch:92 | Loss:0.6674 | Acc:100.0:  41%|████      | 32/79 [00:05<00:08,  5.42it/s]"
     ]
    },
    {
     "name": "stdout",
     "output_type": "stream",
     "text": [
      "Avg Loss:0.6935 | Avg Acc:50.0\n"
     ]
    },
    {
     "name": "stderr",
     "output_type": "stream",
     "text": [
      "\n",
      "Epoch:93 | LR:0.00001 | Loss:0.6935 | Acc:50.0:  81%|████████  | 160/198 [03:08<00:44,  1.18s/it]"
     ]
    },
    {
     "name": "stdout",
     "output_type": "stream",
     "text": [
      "Avg Loss:0.6928 | Avg Acc:51.2\n"
     ]
    },
    {
     "name": "stderr",
     "output_type": "stream",
     "text": [
      "\n",
      "ValEpoch:93 | Loss:0.6674 | Acc:100.0:  41%|████      | 32/79 [00:05<00:08,  5.45it/s]"
     ]
    },
    {
     "name": "stdout",
     "output_type": "stream",
     "text": [
      "Avg Loss:0.6935 | Avg Acc:50.0\n"
     ]
    },
    {
     "name": "stderr",
     "output_type": "stream",
     "text": [
      "\n",
      "Epoch:94 | LR:0.00001 | Loss:0.6935 | Acc:50.0:  81%|████████  | 160/198 [03:08<00:44,  1.18s/it]\n"
     ]
    },
    {
     "name": "stdout",
     "output_type": "stream",
     "text": [
      "Avg Loss:0.6928 | Avg Acc:51.2\n"
     ]
    },
    {
     "name": "stderr",
     "output_type": "stream",
     "text": [
      "ValEpoch:94 | Loss:0.6674 | Acc:100.0:  41%|████      | 32/79 [00:05<00:08,  5.61it/s]"
     ]
    },
    {
     "name": "stdout",
     "output_type": "stream",
     "text": [
      "Avg Loss:0.6935 | Avg Acc:50.0\n"
     ]
    },
    {
     "name": "stderr",
     "output_type": "stream",
     "text": [
      "\n",
      "Epoch:95 | LR:0.00000 | Loss:0.6935 | Acc:50.0:  81%|████████  | 160/198 [03:08<00:44,  1.18s/it]"
     ]
    },
    {
     "name": "stdout",
     "output_type": "stream",
     "text": [
      "Avg Loss:0.6928 | Avg Acc:51.2\n"
     ]
    },
    {
     "name": "stderr",
     "output_type": "stream",
     "text": [
      "\n",
      "ValEpoch:95 | Loss:0.6674 | Acc:100.0:  41%|████      | 32/79 [00:06<00:09,  4.91it/s]"
     ]
    },
    {
     "name": "stdout",
     "output_type": "stream",
     "text": [
      "Avg Loss:0.6935 | Avg Acc:50.0\n"
     ]
    },
    {
     "name": "stderr",
     "output_type": "stream",
     "text": [
      "\n",
      "Epoch:96 | LR:0.00000 | Loss:0.6935 | Acc:50.0:  81%|████████  | 160/198 [03:08<00:44,  1.18s/it]\n"
     ]
    },
    {
     "name": "stdout",
     "output_type": "stream",
     "text": [
      "Avg Loss:0.6928 | Avg Acc:51.2\n"
     ]
    },
    {
     "name": "stderr",
     "output_type": "stream",
     "text": [
      "ValEpoch:96 | Loss:0.6674 | Acc:100.0:  41%|████      | 32/79 [00:05<00:08,  5.53it/s]"
     ]
    },
    {
     "name": "stdout",
     "output_type": "stream",
     "text": [
      "Avg Loss:0.6935 | Avg Acc:50.0\n"
     ]
    },
    {
     "name": "stderr",
     "output_type": "stream",
     "text": [
      "\n",
      "Epoch:97 | LR:0.00000 | Loss:0.6935 | Acc:50.0:  81%|████████  | 160/198 [03:07<00:44,  1.17s/it]"
     ]
    },
    {
     "name": "stdout",
     "output_type": "stream",
     "text": [
      "Avg Loss:0.6928 | Avg Acc:51.2\n"
     ]
    },
    {
     "name": "stderr",
     "output_type": "stream",
     "text": [
      "\n",
      "ValEpoch:97 | Loss:0.6674 | Acc:100.0:  41%|████      | 32/79 [00:05<00:08,  5.60it/s]"
     ]
    },
    {
     "name": "stdout",
     "output_type": "stream",
     "text": [
      "Avg Loss:0.6935 | Avg Acc:50.0\n"
     ]
    },
    {
     "name": "stderr",
     "output_type": "stream",
     "text": [
      "\n",
      "Epoch:98 | LR:0.00000 | Loss:0.6935 | Acc:50.0:  81%|████████  | 160/198 [03:08<00:44,  1.18s/it]\n"
     ]
    },
    {
     "name": "stdout",
     "output_type": "stream",
     "text": [
      "Avg Loss:0.6928 | Avg Acc:51.2\n"
     ]
    },
    {
     "name": "stderr",
     "output_type": "stream",
     "text": [
      "ValEpoch:98 | Loss:0.6674 | Acc:100.0:  41%|████      | 32/79 [00:05<00:08,  5.46it/s]"
     ]
    },
    {
     "name": "stdout",
     "output_type": "stream",
     "text": [
      "Avg Loss:0.6935 | Avg Acc:50.0\n"
     ]
    },
    {
     "name": "stderr",
     "output_type": "stream",
     "text": [
      "\n",
      "Epoch:99 | LR:0.00000 | Loss:0.6935 | Acc:50.0:  81%|████████  | 160/198 [03:07<00:44,  1.17s/it]"
     ]
    },
    {
     "name": "stdout",
     "output_type": "stream",
     "text": [
      "Avg Loss:0.6928 | Avg Acc:51.2\n"
     ]
    },
    {
     "name": "stderr",
     "output_type": "stream",
     "text": [
      "\n",
      "ValEpoch:99 | Loss:0.6674 | Acc:100.0:  41%|████      | 32/79 [00:05<00:08,  5.45it/s]"
     ]
    },
    {
     "name": "stdout",
     "output_type": "stream",
     "text": [
      "Avg Loss:0.6935 | Avg Acc:50.0\n"
     ]
    },
    {
     "name": "stderr",
     "output_type": "stream",
     "text": [
      "\n"
     ]
    }
   ],
   "source": [
    "name = 'Eff_3d'\n",
    "out_path = './saved_model'\n",
    "os.makedirs(out_path,exist_ok=True)\n",
    "folder = f'./logs/{name}'\n",
    "os.makedirs(folder,exist_ok=True)\n",
    "writer = sum_writer(folder)\n",
    "\n",
    "train_global_iter = 0\n",
    "train_writer_freq = 10\n",
    "train_total_loss = 0\n",
    "val_global_iter = 0\n",
    "train_total_acc = 0\n",
    "\n",
    "for epoch in range(100):\n",
    "    model.train()\n",
    "    dset = tqdm(enumerate(train_loader),total=len(train_loader))\n",
    "    avg_acc = 0\n",
    "    avg_loss = 0\n",
    "    for i,sample in dset:\n",
    "        train_global_iter+=1\n",
    "        #if i>10:\n",
    "        #    break\n",
    "        optimizer.zero_grad()\n",
    "        batch,label = sample\n",
    "        batch = batch.cuda()\n",
    "        label = label.cuda()\n",
    "        out = model(batch)\n",
    "        loss = criterion(out, label)\n",
    "        loss.backward()\n",
    "        accs = accuracy(out.data, label, topk=(1,))\n",
    "        \n",
    "        train_total_loss += loss.item()\n",
    "        train_total_acc += accs[0].item()\n",
    "        avg_loss += loss.item()\n",
    "        avg_acc += accs[0].item()\n",
    "        \n",
    "        optimizer.step()\n",
    "        optlr = get_lr(optimizer)\n",
    "        \n",
    "        if train_global_iter%train_writer_freq == 0:\n",
    "            writer.add_info_new(\"Loss/train\", value1=train_total_loss/train_writer_freq, value2=train_global_iter)\n",
    "            writer.add_info_new(\"LR/train\",value1=optlr, value2=train_global_iter)\n",
    "            writer.add_info_new(\"ACC_Ori/train\",value1=train_total_acc/train_writer_freq, value2=train_global_iter)\n",
    "            train_total_loss = 0\n",
    "            train_total_acc = 0\n",
    "            \n",
    "        dset.set_description(f'Epoch:{epoch} | LR:{optlr:.5f} | Loss:{loss.item():.4f} | Acc:{accs[0].item():.1f}')\n",
    "        #break\n",
    "    print(f\"Avg Loss:{avg_loss/(i+1):.4f} | Avg Acc:{avg_acc/(i+1):.1f}\")\n",
    "    if epoch%2 == 0:\n",
    "        save_models(epoch,model,out_path,name)\n",
    "    val_global_iter = eval_model(model,val_loader,epoch,writer,val_global_iter)\n",
    "    scheduler.step()\n",
    "    writer.add_info_new(\"EPOCH/train\",value1=epoch+1, value2=i*(epoch+1))\n",
    "        "
   ]
  },
  {
   "cell_type": "code",
   "execution_count": null,
   "id": "75e2bef7",
   "metadata": {
    "papermill": {
     "duration": 10.184347,
     "end_time": "2021-10-06T13:48:42.229257",
     "exception": false,
     "start_time": "2021-10-06T13:48:32.044910",
     "status": "completed"
    },
    "tags": []
   },
   "outputs": [],
   "source": []
  }
 ],
 "metadata": {
  "kernelspec": {
   "display_name": "Python 3",
   "language": "python",
   "name": "python3"
  },
  "language_info": {
   "codemirror_mode": {
    "name": "ipython",
    "version": 3
   },
   "file_extension": ".py",
   "mimetype": "text/x-python",
   "name": "python",
   "nbconvert_exporter": "python",
   "pygments_lexer": "ipython3",
   "version": "3.7.10"
  },
  "papermill": {
   "default_parameters": {},
   "duration": 19643.925492,
   "end_time": "2021-10-06T13:48:56.017857",
   "environment_variables": {},
   "exception": null,
   "input_path": "__notebook__.ipynb",
   "output_path": "__notebook__.ipynb",
   "parameters": {},
   "start_time": "2021-10-06T08:21:32.092365",
   "version": "2.3.3"
  }
 },
 "nbformat": 4,
 "nbformat_minor": 5
}
