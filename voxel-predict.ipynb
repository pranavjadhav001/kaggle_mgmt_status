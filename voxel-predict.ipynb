{
 "cells": [
  {
   "cell_type": "code",
   "execution_count": 1,
   "metadata": {
    "execution": {
     "iopub.execute_input": "2021-10-12T14:19:20.632740Z",
     "iopub.status.busy": "2021-10-12T14:19:20.632348Z",
     "iopub.status.idle": "2021-10-12T14:19:26.656427Z",
     "shell.execute_reply": "2021-10-12T14:19:26.654889Z",
     "shell.execute_reply.started": "2021-10-12T14:19:20.632618Z"
    }
   },
   "outputs": [
    {
     "name": "stderr",
     "output_type": "stream",
     "text": [
      "2021-10-12 14:19:21.533460: W tensorflow/stream_executor/platform/default/dso_loader.cc:60] Could not load dynamic library 'libcudart.so.11.0'; dlerror: libcudart.so.11.0: cannot open shared object file: No such file or directory; LD_LIBRARY_PATH: /opt/conda/lib\n",
      "2021-10-12 14:19:21.533630: I tensorflow/stream_executor/cuda/cudart_stub.cc:29] Ignore above cudart dlerror if you do not have a GPU set up on your machine.\n"
     ]
    }
   ],
   "source": [
    "import cv2\n",
    "import numpy as np\n",
    "import matplotlib.pyplot as plt\n",
    "import glob\n",
    "import os\n",
    "import tensorflow as tf\n",
    "\n",
    "from tensorflow.keras.models import Model, load_model\n",
    "from tqdm import tqdm\n"
   ]
  },
  {
   "cell_type": "code",
   "execution_count": 2,
   "metadata": {
    "execution": {
     "iopub.execute_input": "2021-10-12T14:19:26.659251Z",
     "iopub.status.busy": "2021-10-12T14:19:26.659018Z",
     "iopub.status.idle": "2021-10-12T14:19:27.193026Z",
     "shell.execute_reply": "2021-10-12T14:19:27.192069Z",
     "shell.execute_reply.started": "2021-10-12T14:19:26.659225Z"
    }
   },
   "outputs": [],
   "source": [
    "img = np.load('/kaggle/input/rsna-miccai-voxel-256-dataset/voxel/train/00000/FLAIR.npy')"
   ]
  },
  {
   "cell_type": "code",
   "execution_count": 3,
   "metadata": {
    "execution": {
     "iopub.execute_input": "2021-10-12T14:19:27.194525Z",
     "iopub.status.busy": "2021-10-12T14:19:27.194318Z",
     "iopub.status.idle": "2021-10-12T14:19:27.205406Z",
     "shell.execute_reply": "2021-10-12T14:19:27.204828Z",
     "shell.execute_reply.started": "2021-10-12T14:19:27.194500Z"
    }
   },
   "outputs": [],
   "source": [
    "class DataLoader(tf.keras.utils.Sequence):\n",
    "    def __init__(self,base_dir='/kaggle/input/rsna-miccai-brain-tumor-radiogenomic-classification/test',\\\n",
    "                mods=['FLAIR']):\n",
    "        self.batch_size = 1 \n",
    "        self.base_dir = base_dir\n",
    "        self.pat_ids = sorted(glob.glob(os.path.join(base_dir, '*')))\n",
    "        self.modalities = mods\n",
    "        print('PAT IDS:',len(self.pat_ids),' | Modalities:',self.modalities)\n",
    "    \n",
    "    def __getitem__(self,index):\n",
    "        batch_patids = self.pat_ids[index:index+self.batch_size]\n",
    "        all_images = {}\n",
    "        for K in self.modalities:\n",
    "            all_images[K] = {'images':[],'ids':[]}\n",
    "        for patid in batch_patids:\n",
    "            for MOD in all_images.keys():\n",
    "                all_images[MOD]['images'].append(np.load(os.path.join(patid, MOD+'.npy')))\n",
    "                all_images[MOD]['ids'].append(patid.replace('\\\\','/').split('/')[-1])\n",
    "        return all_images\n",
    "   \n",
    "    def __len__(self):\n",
    "        return int(len(self.pat_ids)/self.batch_size)"
   ]
  },
  {
   "cell_type": "code",
   "execution_count": 4,
   "metadata": {
    "execution": {
     "iopub.execute_input": "2021-10-12T14:19:27.207698Z",
     "iopub.status.busy": "2021-10-12T14:19:27.207151Z",
     "iopub.status.idle": "2021-10-12T14:19:27.221393Z",
     "shell.execute_reply": "2021-10-12T14:19:27.220745Z",
     "shell.execute_reply.started": "2021-10-12T14:19:27.207663Z"
    }
   },
   "outputs": [],
   "source": [
    "class StageOne:\n",
    "    def __init__(self,modelpath='',height=256,width=256,score_min_thresh=0.5):\n",
    "        self.model = load_model(modelpath)\n",
    "        self.score_min_thresh = score_min_thresh\n",
    "        self.height = height\n",
    "        self.width = width\n",
    "        self.offset_perc = 0.1\n",
    "    \n",
    "    def infer(self,image_batch,filter_batchsize=16):\n",
    "        filtered_images = {}\n",
    "        for K in image_batch.keys():\n",
    "            filtered_images[K] = {'images':[],'ids':[]}\n",
    "            for imagesbatch, patid in zip(image_batch[K]['images'],image_batch[K]['ids']):\n",
    "                div,mod = divmod(len(imagesbatch),filter_batchsize)\n",
    "                if mod!=0:\n",
    "                    div+=1\n",
    "                dset = tqdm(range(0,len(imagesbatch),filter_batchsize),total=div,position=0, leave=True)\n",
    "                dset.set_description(f'{patid}|Filtering')\n",
    "                filtered_batch_images = []\n",
    "                for i in dset:\n",
    "                    org_batchimgs = imagesbatch[i:i+filter_batchsize]\n",
    "                    batchimgs = org_batchimgs\n",
    "                    batchimgs = np.array([cv2.resize(img,(self.width,self.height))/255. for img in batchimgs])\n",
    "                    out = self.model.predict(batchimgs)\n",
    "                    maxindexes = np.argmax(out,axis=1)\n",
    "                    for j in range(len(maxindexes)):\n",
    "                        if maxindexes[j] == 1 and out[j][maxindexes[j]] >= self.score_min_thresh:\n",
    "                            filtered_batch_images.append(org_batchimgs[j])\n",
    "                            \n",
    "                if len(filtered_batch_images)==0:\n",
    "                    offset = math.ceil(len(imagesbatch)*self.offset_perc)\n",
    "                    filtered_batch_images = imagesbatch[offset:-offset]\n",
    "                filtered_images[K]['images'].append(filtered_batch_images)\n",
    "                filtered_images[K]['ids'].append(patid)\n",
    "                filtered_batch_images = None\n",
    "                dset = None\n",
    "                \n",
    "            return filtered_images\n",
    "              "
   ]
  },
  {
   "cell_type": "code",
   "execution_count": 5,
   "metadata": {
    "execution": {
     "iopub.execute_input": "2021-10-12T14:19:27.222934Z",
     "iopub.status.busy": "2021-10-12T14:19:27.222385Z",
     "iopub.status.idle": "2021-10-12T14:19:42.675444Z",
     "shell.execute_reply": "2021-10-12T14:19:42.674807Z",
     "shell.execute_reply.started": "2021-10-12T14:19:27.222900Z"
    }
   },
   "outputs": [
    {
     "name": "stdout",
     "output_type": "stream",
     "text": [
      "PAT IDS: 585  | Modalities: ['FLAIR']\n"
     ]
    },
    {
     "name": "stderr",
     "output_type": "stream",
     "text": [
      "2021-10-12 14:19:27.618336: I tensorflow/compiler/jit/xla_cpu_device.cc:41] Not creating XLA devices, tf_xla_enable_xla_devices not set\n",
      "2021-10-12 14:19:27.621209: W tensorflow/stream_executor/platform/default/dso_loader.cc:60] Could not load dynamic library 'libcuda.so.1'; dlerror: libcuda.so.1: cannot open shared object file: No such file or directory; LD_LIBRARY_PATH: /opt/conda/lib\n",
      "2021-10-12 14:19:27.621239: W tensorflow/stream_executor/cuda/cuda_driver.cc:326] failed call to cuInit: UNKNOWN ERROR (303)\n",
      "2021-10-12 14:19:27.621264: I tensorflow/stream_executor/cuda/cuda_diagnostics.cc:156] kernel driver does not appear to be running on this host (87ca557a071d): /proc/driver/nvidia/version does not exist\n",
      "2021-10-12 14:19:27.621519: I tensorflow/core/platform/cpu_feature_guard.cc:142] This TensorFlow binary is optimized with oneAPI Deep Neural Network Library (oneDNN) to use the following CPU instructions in performance-critical operations:  AVX2 FMA\n",
      "To enable them in other operations, rebuild TensorFlow with the appropriate compiler flags.\n",
      "2021-10-12 14:19:27.621936: I tensorflow/compiler/jit/xla_gpu_device.cc:99] Not creating XLA devices, tf_xla_enable_xla_devices not set\n"
     ]
    }
   ],
   "source": [
    "mods = ['FLAIR']\n",
    "generator = DataLoader(base_dir='/kaggle/input/rsna-miccai-voxel-256-dataset/voxel/train/')\n",
    "stage_one = StageOne(modelpath='/kaggle/input/models/FINAL_MODELALL_acc0.9825_ep26.h5')"
   ]
  },
  {
   "cell_type": "code",
   "execution_count": 7,
   "metadata": {
    "execution": {
     "iopub.execute_input": "2021-10-12T14:20:50.673438Z",
     "iopub.status.busy": "2021-10-12T14:20:50.673093Z",
     "iopub.status.idle": "2021-10-12T14:49:33.544669Z",
     "shell.execute_reply": "2021-10-12T14:49:33.543516Z",
     "shell.execute_reply.started": "2021-10-12T14:20:50.673407Z"
    }
   },
   "outputs": [
    {
     "name": "stderr",
     "output_type": "stream",
     "text": [
      "00000|Filtering: 100%|██████████| 16/16 [00:30<00:00,  1.89s/it]\n",
      "Loading_test:   0%|          | 1/585 [00:30<4:53:44, 30.18s/it]"
     ]
    },
    {
     "name": "stdout",
     "output_type": "stream",
     "text": [
      "(1, 68, 256, 256)\n"
     ]
    },
    {
     "name": "stderr",
     "output_type": "stream",
     "text": [
      "00002|Filtering: 100%|██████████| 16/16 [00:30<00:00,  1.89s/it]\n",
      "Loading_test:   0%|          | 2/585 [01:01<4:57:11, 30.59s/it]"
     ]
    },
    {
     "name": "stdout",
     "output_type": "stream",
     "text": [
      "(1, 113, 256, 256)\n"
     ]
    },
    {
     "name": "stderr",
     "output_type": "stream",
     "text": [
      "00003|Filtering: 100%|██████████| 16/16 [00:30<00:00,  1.88s/it]\n",
      "Loading_test:   1%|          | 3/585 [01:31<4:57:25, 30.66s/it]"
     ]
    },
    {
     "name": "stdout",
     "output_type": "stream",
     "text": [
      "(1, 112, 256, 256)\n"
     ]
    },
    {
     "name": "stderr",
     "output_type": "stream",
     "text": [
      "00005|Filtering: 100%|██████████| 16/16 [00:29<00:00,  1.87s/it]\n",
      "Loading_test:   1%|          | 4/585 [02:02<4:55:25, 30.51s/it]"
     ]
    },
    {
     "name": "stdout",
     "output_type": "stream",
     "text": [
      "(1, 112, 256, 256)\n"
     ]
    },
    {
     "name": "stderr",
     "output_type": "stream",
     "text": [
      "00006|Filtering: 100%|██████████| 16/16 [00:30<00:00,  1.88s/it]\n",
      "Loading_test:   1%|          | 5/585 [02:32<4:55:02, 30.52s/it]"
     ]
    },
    {
     "name": "stdout",
     "output_type": "stream",
     "text": [
      "(1, 156, 256, 256)\n"
     ]
    },
    {
     "name": "stderr",
     "output_type": "stream",
     "text": [
      "00008|Filtering: 100%|██████████| 16/16 [00:29<00:00,  1.87s/it]\n",
      "Loading_test:   1%|          | 6/585 [03:03<4:54:20, 30.50s/it]"
     ]
    },
    {
     "name": "stdout",
     "output_type": "stream",
     "text": [
      "(1, 46, 256, 256)\n"
     ]
    },
    {
     "name": "stderr",
     "output_type": "stream",
     "text": [
      "00009|Filtering: 100%|██████████| 16/16 [00:29<00:00,  1.87s/it]\n",
      "Loading_test:   1%|          | 7/585 [03:33<4:53:42, 30.49s/it]"
     ]
    },
    {
     "name": "stdout",
     "output_type": "stream",
     "text": [
      "(1, 46, 256, 256)\n"
     ]
    },
    {
     "name": "stderr",
     "output_type": "stream",
     "text": [
      "00011|Filtering: 100%|██████████| 16/16 [00:29<00:00,  1.87s/it]\n",
      "Loading_test:   1%|▏         | 8/585 [04:03<4:52:49, 30.45s/it]"
     ]
    },
    {
     "name": "stdout",
     "output_type": "stream",
     "text": [
      "(1, 175, 256, 256)\n"
     ]
    },
    {
     "name": "stderr",
     "output_type": "stream",
     "text": [
      "00012|Filtering: 100%|██████████| 16/16 [00:30<00:00,  1.88s/it]\n",
      "Loading_test:   2%|▏         | 9/585 [04:34<4:52:36, 30.48s/it]"
     ]
    },
    {
     "name": "stdout",
     "output_type": "stream",
     "text": [
      "(1, 150, 256, 256)\n"
     ]
    },
    {
     "name": "stderr",
     "output_type": "stream",
     "text": [
      "00014|Filtering: 100%|██████████| 16/16 [00:29<00:00,  1.87s/it]\n",
      "Loading_test:   2%|▏         | 10/585 [05:04<4:51:52, 30.46s/it]"
     ]
    },
    {
     "name": "stdout",
     "output_type": "stream",
     "text": [
      "(1, 19, 256, 256)\n"
     ]
    },
    {
     "name": "stderr",
     "output_type": "stream",
     "text": [
      "00017|Filtering: 100%|██████████| 16/16 [00:30<00:00,  1.88s/it]\n",
      "Loading_test:   2%|▏         | 11/585 [05:35<4:52:05, 30.53s/it]"
     ]
    },
    {
     "name": "stdout",
     "output_type": "stream",
     "text": [
      "(1, 140, 256, 256)\n"
     ]
    },
    {
     "name": "stderr",
     "output_type": "stream",
     "text": [
      "00018|Filtering: 100%|██████████| 16/16 [00:30<00:00,  1.89s/it]\n",
      "Loading_test:   2%|▏         | 12/585 [06:06<4:51:58, 30.57s/it]"
     ]
    },
    {
     "name": "stdout",
     "output_type": "stream",
     "text": [
      "(1, 138, 256, 256)\n"
     ]
    },
    {
     "name": "stderr",
     "output_type": "stream",
     "text": [
      "00019|Filtering: 100%|██████████| 16/16 [00:30<00:00,  1.88s/it]\n",
      "Loading_test:   2%|▏         | 13/585 [06:36<4:51:22, 30.56s/it]"
     ]
    },
    {
     "name": "stdout",
     "output_type": "stream",
     "text": [
      "(1, 80, 256, 256)\n"
     ]
    },
    {
     "name": "stderr",
     "output_type": "stream",
     "text": [
      "00020|Filtering: 100%|██████████| 16/16 [00:30<00:00,  1.88s/it]\n",
      "Loading_test:   2%|▏         | 14/585 [07:07<4:50:56, 30.57s/it]"
     ]
    },
    {
     "name": "stdout",
     "output_type": "stream",
     "text": [
      "(1, 70, 256, 256)\n"
     ]
    },
    {
     "name": "stderr",
     "output_type": "stream",
     "text": [
      "00021|Filtering: 100%|██████████| 16/16 [00:29<00:00,  1.87s/it]\n",
      "Loading_test:   3%|▎         | 15/585 [07:37<4:50:04, 30.53s/it]"
     ]
    },
    {
     "name": "stdout",
     "output_type": "stream",
     "text": [
      "(1, 43, 256, 256)\n"
     ]
    },
    {
     "name": "stderr",
     "output_type": "stream",
     "text": [
      "00022|Filtering: 100%|██████████| 16/16 [00:29<00:00,  1.86s/it]\n",
      "Loading_test:   3%|▎         | 16/585 [08:08<4:48:50, 30.46s/it]"
     ]
    },
    {
     "name": "stdout",
     "output_type": "stream",
     "text": [
      "(1, 132, 256, 256)\n"
     ]
    },
    {
     "name": "stderr",
     "output_type": "stream",
     "text": [
      "00024|Filtering: 100%|██████████| 16/16 [00:29<00:00,  1.87s/it]\n",
      "Loading_test:   3%|▎         | 17/585 [08:38<4:47:56, 30.42s/it]"
     ]
    },
    {
     "name": "stdout",
     "output_type": "stream",
     "text": [
      "(1, 114, 256, 256)\n"
     ]
    },
    {
     "name": "stderr",
     "output_type": "stream",
     "text": [
      "00025|Filtering: 100%|██████████| 16/16 [00:29<00:00,  1.86s/it]\n",
      "Loading_test:   3%|▎         | 18/585 [09:08<4:47:04, 30.38s/it]"
     ]
    },
    {
     "name": "stdout",
     "output_type": "stream",
     "text": [
      "(1, 77, 256, 256)\n"
     ]
    },
    {
     "name": "stderr",
     "output_type": "stream",
     "text": [
      "00026|Filtering: 100%|██████████| 16/16 [00:29<00:00,  1.87s/it]\n",
      "Loading_test:   3%|▎         | 19/585 [09:39<4:46:35, 30.38s/it]"
     ]
    },
    {
     "name": "stdout",
     "output_type": "stream",
     "text": [
      "(1, 84, 256, 256)\n"
     ]
    },
    {
     "name": "stderr",
     "output_type": "stream",
     "text": [
      "00028|Filtering: 100%|██████████| 16/16 [00:29<00:00,  1.87s/it]\n",
      "Loading_test:   3%|▎         | 20/585 [10:09<4:45:57, 30.37s/it]"
     ]
    },
    {
     "name": "stdout",
     "output_type": "stream",
     "text": [
      "(1, 42, 256, 256)\n"
     ]
    },
    {
     "name": "stderr",
     "output_type": "stream",
     "text": [
      "00030|Filtering: 100%|██████████| 16/16 [00:29<00:00,  1.85s/it]\n",
      "Loading_test:   4%|▎         | 21/585 [10:39<4:44:32, 30.27s/it]"
     ]
    },
    {
     "name": "stdout",
     "output_type": "stream",
     "text": [
      "(1, 163, 256, 256)\n"
     ]
    },
    {
     "name": "stderr",
     "output_type": "stream",
     "text": [
      "00031|Filtering: 100%|██████████| 16/16 [00:29<00:00,  1.86s/it]\n",
      "Loading_test:   4%|▍         | 22/585 [11:09<4:43:56, 30.26s/it]"
     ]
    },
    {
     "name": "stdout",
     "output_type": "stream",
     "text": [
      "(1, 100, 256, 256)\n"
     ]
    },
    {
     "name": "stderr",
     "output_type": "stream",
     "text": [
      "00032|Filtering: 100%|██████████| 16/16 [00:29<00:00,  1.85s/it]\n",
      "Loading_test:   4%|▍         | 23/585 [11:39<4:43:03, 30.22s/it]"
     ]
    },
    {
     "name": "stdout",
     "output_type": "stream",
     "text": [
      "(1, 99, 256, 256)\n"
     ]
    },
    {
     "name": "stderr",
     "output_type": "stream",
     "text": [
      "00033|Filtering: 100%|██████████| 16/16 [00:29<00:00,  1.86s/it]\n",
      "Loading_test:   4%|▍         | 24/585 [12:09<4:42:23, 30.20s/it]"
     ]
    },
    {
     "name": "stdout",
     "output_type": "stream",
     "text": [
      "(1, 110, 256, 256)\n"
     ]
    },
    {
     "name": "stderr",
     "output_type": "stream",
     "text": [
      "00035|Filtering: 100%|██████████| 16/16 [00:29<00:00,  1.84s/it]\n",
      "Loading_test:   4%|▍         | 25/585 [12:39<4:41:09, 30.12s/it]"
     ]
    },
    {
     "name": "stdout",
     "output_type": "stream",
     "text": [
      "(1, 107, 256, 256)\n"
     ]
    },
    {
     "name": "stderr",
     "output_type": "stream",
     "text": [
      "00036|Filtering: 100%|██████████| 16/16 [00:29<00:00,  1.85s/it]\n",
      "Loading_test:   4%|▍         | 26/585 [13:10<4:40:44, 30.13s/it]"
     ]
    },
    {
     "name": "stdout",
     "output_type": "stream",
     "text": [
      "(1, 75, 256, 256)\n"
     ]
    },
    {
     "name": "stderr",
     "output_type": "stream",
     "text": [
      "00043|Filtering: 100%|██████████| 16/16 [00:29<00:00,  1.87s/it]\n",
      "Loading_test:   5%|▍         | 27/585 [13:40<4:40:51, 30.20s/it]"
     ]
    },
    {
     "name": "stdout",
     "output_type": "stream",
     "text": [
      "(1, 144, 256, 256)\n"
     ]
    },
    {
     "name": "stderr",
     "output_type": "stream",
     "text": [
      "00044|Filtering: 100%|██████████| 16/16 [00:29<00:00,  1.85s/it]\n",
      "Loading_test:   5%|▍         | 28/585 [14:10<4:40:13, 30.19s/it]"
     ]
    },
    {
     "name": "stdout",
     "output_type": "stream",
     "text": [
      "(1, 70, 256, 256)\n"
     ]
    },
    {
     "name": "stderr",
     "output_type": "stream",
     "text": [
      "00045|Filtering: 100%|██████████| 16/16 [00:29<00:00,  1.85s/it]\n",
      "Loading_test:   5%|▍         | 29/585 [14:40<4:39:53, 30.20s/it]"
     ]
    },
    {
     "name": "stdout",
     "output_type": "stream",
     "text": [
      "(1, 85, 256, 256)\n"
     ]
    },
    {
     "name": "stderr",
     "output_type": "stream",
     "text": [
      "00046|Filtering: 100%|██████████| 16/16 [00:29<00:00,  1.87s/it]\n",
      "Loading_test:   5%|▌         | 30/585 [15:11<4:39:48, 30.25s/it]"
     ]
    },
    {
     "name": "stdout",
     "output_type": "stream",
     "text": [
      "(1, 130, 256, 256)\n"
     ]
    },
    {
     "name": "stderr",
     "output_type": "stream",
     "text": [
      "00049|Filtering: 100%|██████████| 16/16 [00:41<00:00,  2.62s/it]\n",
      "Loading_test:   5%|▌         | 32/585 [16:24<5:13:04, 33.97s/it]"
     ]
    },
    {
     "name": "stdout",
     "output_type": "stream",
     "text": [
      "(1, 96, 256, 256)\n"
     ]
    },
    {
     "name": "stderr",
     "output_type": "stream",
     "text": [
      "00052|Filtering: 100%|██████████| 16/16 [00:30<00:00,  1.90s/it]\n",
      "Loading_test:   6%|▌         | 33/585 [16:55<5:04:20, 33.08s/it]"
     ]
    },
    {
     "name": "stdout",
     "output_type": "stream",
     "text": [
      "(1, 121, 256, 256)\n"
     ]
    },
    {
     "name": "stderr",
     "output_type": "stream",
     "text": [
      "00053|Filtering: 100%|██████████| 16/16 [00:30<00:00,  1.90s/it]\n",
      "Loading_test:   6%|▌         | 34/585 [17:26<4:57:58, 32.45s/it]"
     ]
    },
    {
     "name": "stdout",
     "output_type": "stream",
     "text": [
      "(1, 167, 256, 256)\n"
     ]
    },
    {
     "name": "stderr",
     "output_type": "stream",
     "text": [
      "00054|Filtering: 100%|██████████| 16/16 [00:30<00:00,  1.92s/it]\n",
      "Loading_test:   6%|▌         | 35/585 [17:57<4:54:18, 32.11s/it]"
     ]
    },
    {
     "name": "stdout",
     "output_type": "stream",
     "text": [
      "(1, 92, 256, 256)\n"
     ]
    },
    {
     "name": "stderr",
     "output_type": "stream",
     "text": [
      "00056|Filtering: 100%|██████████| 16/16 [00:30<00:00,  1.88s/it]\n",
      "Loading_test:   6%|▌         | 36/585 [18:28<4:50:05, 31.70s/it]"
     ]
    },
    {
     "name": "stdout",
     "output_type": "stream",
     "text": [
      "(1, 53, 256, 256)\n"
     ]
    },
    {
     "name": "stderr",
     "output_type": "stream",
     "text": [
      "00058|Filtering: 100%|██████████| 16/16 [00:30<00:00,  1.89s/it]\n",
      "Loading_test:   6%|▋         | 37/585 [18:59<4:47:13, 31.45s/it]"
     ]
    },
    {
     "name": "stdout",
     "output_type": "stream",
     "text": [
      "(1, 101, 256, 256)\n"
     ]
    },
    {
     "name": "stderr",
     "output_type": "stream",
     "text": [
      "00059|Filtering: 100%|██████████| 16/16 [00:29<00:00,  1.87s/it]\n",
      "Loading_test:   6%|▋         | 38/585 [19:29<4:44:29, 31.21s/it]"
     ]
    },
    {
     "name": "stdout",
     "output_type": "stream",
     "text": [
      "(1, 86, 256, 256)\n"
     ]
    },
    {
     "name": "stderr",
     "output_type": "stream",
     "text": [
      "00060|Filtering: 100%|██████████| 16/16 [00:30<00:00,  1.90s/it]\n",
      "Loading_test:   7%|▋         | 39/585 [20:00<4:42:57, 31.09s/it]"
     ]
    },
    {
     "name": "stdout",
     "output_type": "stream",
     "text": [
      "(1, 135, 256, 256)\n"
     ]
    },
    {
     "name": "stderr",
     "output_type": "stream",
     "text": [
      "00061|Filtering: 100%|██████████| 16/16 [00:30<00:00,  1.89s/it]\n",
      "Loading_test:   7%|▋         | 40/585 [20:31<4:41:57, 31.04s/it]"
     ]
    },
    {
     "name": "stdout",
     "output_type": "stream",
     "text": [
      "(1, 48, 256, 256)\n"
     ]
    },
    {
     "name": "stderr",
     "output_type": "stream",
     "text": [
      "00062|Filtering: 100%|██████████| 16/16 [00:30<00:00,  1.89s/it]\n",
      "Loading_test:   7%|▋         | 41/585 [21:02<4:40:53, 30.98s/it]"
     ]
    },
    {
     "name": "stdout",
     "output_type": "stream",
     "text": [
      "(1, 110, 256, 256)\n"
     ]
    },
    {
     "name": "stderr",
     "output_type": "stream",
     "text": [
      "00063|Filtering: 100%|██████████| 16/16 [00:30<00:00,  1.88s/it]\n",
      "Loading_test:   7%|▋         | 42/585 [21:32<4:39:32, 30.89s/it]"
     ]
    },
    {
     "name": "stdout",
     "output_type": "stream",
     "text": [
      "(1, 82, 256, 256)\n"
     ]
    },
    {
     "name": "stderr",
     "output_type": "stream",
     "text": [
      "00064|Filtering: 100%|██████████| 16/16 [00:30<00:00,  1.89s/it]\n",
      "Loading_test:   7%|▋         | 43/585 [22:03<4:38:24, 30.82s/it]"
     ]
    },
    {
     "name": "stdout",
     "output_type": "stream",
     "text": [
      "(1, 160, 256, 256)\n"
     ]
    },
    {
     "name": "stderr",
     "output_type": "stream",
     "text": [
      "00066|Filtering: 100%|██████████| 16/16 [00:29<00:00,  1.87s/it]\n",
      "Loading_test:   8%|▊         | 44/585 [22:34<4:37:41, 30.80s/it]"
     ]
    },
    {
     "name": "stdout",
     "output_type": "stream",
     "text": [
      "(1, 82, 256, 256)\n"
     ]
    },
    {
     "name": "stderr",
     "output_type": "stream",
     "text": [
      "00068|Filtering: 100%|██████████| 16/16 [00:29<00:00,  1.87s/it]\n",
      "Loading_test:   8%|▊         | 45/585 [23:05<4:36:47, 30.76s/it]"
     ]
    },
    {
     "name": "stdout",
     "output_type": "stream",
     "text": [
      "(1, 69, 256, 256)\n"
     ]
    },
    {
     "name": "stderr",
     "output_type": "stream",
     "text": [
      "00070|Filtering: 100%|██████████| 16/16 [00:30<00:00,  1.88s/it]\n",
      "Loading_test:   8%|▊         | 46/585 [23:35<4:36:06, 30.73s/it]"
     ]
    },
    {
     "name": "stdout",
     "output_type": "stream",
     "text": [
      "(1, 56, 256, 256)\n"
     ]
    },
    {
     "name": "stderr",
     "output_type": "stream",
     "text": [
      "00071|Filtering: 100%|██████████| 16/16 [00:30<00:00,  1.88s/it]\n",
      "Loading_test:   8%|▊         | 47/585 [24:06<4:35:29, 30.72s/it]"
     ]
    },
    {
     "name": "stdout",
     "output_type": "stream",
     "text": [
      "(1, 82, 256, 256)\n"
     ]
    },
    {
     "name": "stderr",
     "output_type": "stream",
     "text": [
      "00072|Filtering: 100%|██████████| 16/16 [00:29<00:00,  1.86s/it]\n",
      "Loading_test:   8%|▊         | 48/585 [24:36<4:34:35, 30.68s/it]"
     ]
    },
    {
     "name": "stdout",
     "output_type": "stream",
     "text": [
      "(1, 71, 256, 256)\n"
     ]
    },
    {
     "name": "stderr",
     "output_type": "stream",
     "text": [
      "00074|Filtering: 100%|██████████| 16/16 [00:29<00:00,  1.86s/it]\n",
      "Loading_test:   8%|▊         | 49/585 [25:07<4:33:01, 30.56s/it]"
     ]
    },
    {
     "name": "stdout",
     "output_type": "stream",
     "text": [
      "(1, 113, 256, 256)\n"
     ]
    },
    {
     "name": "stderr",
     "output_type": "stream",
     "text": [
      "00077|Filtering: 100%|██████████| 16/16 [00:29<00:00,  1.87s/it]\n",
      "Loading_test:   9%|▊         | 50/585 [25:37<4:31:53, 30.49s/it]"
     ]
    },
    {
     "name": "stdout",
     "output_type": "stream",
     "text": [
      "(1, 177, 256, 256)\n"
     ]
    },
    {
     "name": "stderr",
     "output_type": "stream",
     "text": [
      "00078|Filtering: 100%|██████████| 16/16 [00:29<00:00,  1.87s/it]\n",
      "Loading_test:   9%|▊         | 51/585 [26:08<4:31:14, 30.48s/it]"
     ]
    },
    {
     "name": "stdout",
     "output_type": "stream",
     "text": [
      "(1, 118, 256, 256)\n"
     ]
    },
    {
     "name": "stderr",
     "output_type": "stream",
     "text": [
      "00081|Filtering: 100%|██████████| 16/16 [00:43<00:00,  2.71s/it]\n",
      "Loading_test:   9%|▉         | 52/585 [26:51<5:06:29, 34.50s/it]"
     ]
    },
    {
     "name": "stdout",
     "output_type": "stream",
     "text": [
      "(1, 95, 256, 256)\n"
     ]
    },
    {
     "name": "stderr",
     "output_type": "stream",
     "text": [
      "00084|Filtering: 100%|██████████| 16/16 [00:30<00:00,  1.88s/it]\n",
      "Loading_test:   9%|▉         | 53/585 [27:22<4:55:11, 33.29s/it]"
     ]
    },
    {
     "name": "stdout",
     "output_type": "stream",
     "text": [
      "(1, 54, 256, 256)\n"
     ]
    },
    {
     "name": "stderr",
     "output_type": "stream",
     "text": [
      "00085|Filtering: 100%|██████████| 16/16 [00:30<00:00,  1.88s/it]\n",
      "Loading_test:   9%|▉         | 54/585 [27:52<4:47:25, 32.48s/it]"
     ]
    },
    {
     "name": "stdout",
     "output_type": "stream",
     "text": [
      "(1, 132, 256, 256)\n"
     ]
    },
    {
     "name": "stderr",
     "output_type": "stream",
     "text": [
      "00087|Filtering: 100%|██████████| 16/16 [00:30<00:00,  1.88s/it]\n",
      "Loading_test:   9%|▉         | 55/585 [28:23<4:42:07, 31.94s/it]"
     ]
    },
    {
     "name": "stdout",
     "output_type": "stream",
     "text": [
      "(1, 77, 256, 256)\n"
     ]
    },
    {
     "name": "stderr",
     "output_type": "stream",
     "text": [
      "00088|Filtering:  56%|█████▋    | 9/16 [00:18<00:14,  2.07s/it]\n",
      "Loading_test:   9%|▉         | 55/585 [28:42<4:36:41, 31.32s/it]\n"
     ]
    },
    {
     "ename": "KeyboardInterrupt",
     "evalue": "",
     "output_type": "error",
     "traceback": [
      "\u001b[0;31m---------------------------------------------------------------------------\u001b[0m",
      "\u001b[0;31mKeyboardInterrupt\u001b[0m                         Traceback (most recent call last)",
      "\u001b[0;32m/tmp/ipykernel_42/1750514942.py\u001b[0m in \u001b[0;36m<module>\u001b[0;34m\u001b[0m\n\u001b[1;32m      5\u001b[0m     \u001b[0;31m#if i > 2:\u001b[0m\u001b[0;34m\u001b[0m\u001b[0;34m\u001b[0m\u001b[0;34m\u001b[0m\u001b[0m\n\u001b[1;32m      6\u001b[0m     \u001b[0;31m#    break\u001b[0m\u001b[0;34m\u001b[0m\u001b[0;34m\u001b[0m\u001b[0;34m\u001b[0m\u001b[0m\n\u001b[0;32m----> 7\u001b[0;31m     \u001b[0mfiltered_images\u001b[0m \u001b[0;34m=\u001b[0m \u001b[0mstage_one\u001b[0m\u001b[0;34m.\u001b[0m\u001b[0minfer\u001b[0m\u001b[0;34m(\u001b[0m\u001b[0msample\u001b[0m\u001b[0;34m)\u001b[0m\u001b[0;34m\u001b[0m\u001b[0;34m\u001b[0m\u001b[0m\n\u001b[0m\u001b[1;32m      8\u001b[0m     \u001b[0mprint\u001b[0m\u001b[0;34m(\u001b[0m\u001b[0mnp\u001b[0m\u001b[0;34m.\u001b[0m\u001b[0marray\u001b[0m\u001b[0;34m(\u001b[0m\u001b[0mfiltered_images\u001b[0m\u001b[0;34m[\u001b[0m\u001b[0;34m'FLAIR'\u001b[0m\u001b[0;34m]\u001b[0m\u001b[0;34m[\u001b[0m\u001b[0;34m'images'\u001b[0m\u001b[0;34m]\u001b[0m\u001b[0;34m)\u001b[0m\u001b[0;34m.\u001b[0m\u001b[0mshape\u001b[0m\u001b[0;34m)\u001b[0m\u001b[0;34m\u001b[0m\u001b[0;34m\u001b[0m\u001b[0m\n",
      "\u001b[0;32m/tmp/ipykernel_42/492923908.py\u001b[0m in \u001b[0;36minfer\u001b[0;34m(self, image_batch, filter_batchsize)\u001b[0m\n\u001b[1;32m     22\u001b[0m                     \u001b[0mbatchimgs\u001b[0m \u001b[0;34m=\u001b[0m \u001b[0morg_batchimgs\u001b[0m\u001b[0;34m\u001b[0m\u001b[0;34m\u001b[0m\u001b[0m\n\u001b[1;32m     23\u001b[0m                     \u001b[0mbatchimgs\u001b[0m \u001b[0;34m=\u001b[0m \u001b[0mnp\u001b[0m\u001b[0;34m.\u001b[0m\u001b[0marray\u001b[0m\u001b[0;34m(\u001b[0m\u001b[0;34m[\u001b[0m\u001b[0mcv2\u001b[0m\u001b[0;34m.\u001b[0m\u001b[0mresize\u001b[0m\u001b[0;34m(\u001b[0m\u001b[0mimg\u001b[0m\u001b[0;34m,\u001b[0m\u001b[0;34m(\u001b[0m\u001b[0mself\u001b[0m\u001b[0;34m.\u001b[0m\u001b[0mwidth\u001b[0m\u001b[0;34m,\u001b[0m\u001b[0mself\u001b[0m\u001b[0;34m.\u001b[0m\u001b[0mheight\u001b[0m\u001b[0;34m)\u001b[0m\u001b[0;34m)\u001b[0m\u001b[0;34m/\u001b[0m\u001b[0;36m255.\u001b[0m \u001b[0;32mfor\u001b[0m \u001b[0mimg\u001b[0m \u001b[0;32min\u001b[0m \u001b[0mbatchimgs\u001b[0m\u001b[0;34m]\u001b[0m\u001b[0;34m)\u001b[0m\u001b[0;34m\u001b[0m\u001b[0;34m\u001b[0m\u001b[0m\n\u001b[0;32m---> 24\u001b[0;31m                     \u001b[0mout\u001b[0m \u001b[0;34m=\u001b[0m \u001b[0mself\u001b[0m\u001b[0;34m.\u001b[0m\u001b[0mmodel\u001b[0m\u001b[0;34m.\u001b[0m\u001b[0mpredict\u001b[0m\u001b[0;34m(\u001b[0m\u001b[0mbatchimgs\u001b[0m\u001b[0;34m)\u001b[0m\u001b[0;34m\u001b[0m\u001b[0;34m\u001b[0m\u001b[0m\n\u001b[0m\u001b[1;32m     25\u001b[0m                     \u001b[0mmaxindexes\u001b[0m \u001b[0;34m=\u001b[0m \u001b[0mnp\u001b[0m\u001b[0;34m.\u001b[0m\u001b[0margmax\u001b[0m\u001b[0;34m(\u001b[0m\u001b[0mout\u001b[0m\u001b[0;34m,\u001b[0m\u001b[0maxis\u001b[0m\u001b[0;34m=\u001b[0m\u001b[0;36m1\u001b[0m\u001b[0;34m)\u001b[0m\u001b[0;34m\u001b[0m\u001b[0;34m\u001b[0m\u001b[0m\n\u001b[1;32m     26\u001b[0m                     \u001b[0;32mfor\u001b[0m \u001b[0mj\u001b[0m \u001b[0;32min\u001b[0m \u001b[0mrange\u001b[0m\u001b[0;34m(\u001b[0m\u001b[0mlen\u001b[0m\u001b[0;34m(\u001b[0m\u001b[0mmaxindexes\u001b[0m\u001b[0;34m)\u001b[0m\u001b[0;34m)\u001b[0m\u001b[0;34m:\u001b[0m\u001b[0;34m\u001b[0m\u001b[0;34m\u001b[0m\u001b[0m\n",
      "\u001b[0;32m/opt/conda/lib/python3.7/site-packages/tensorflow/python/keras/engine/training.py\u001b[0m in \u001b[0;36mpredict\u001b[0;34m(self, x, batch_size, verbose, steps, callbacks, max_queue_size, workers, use_multiprocessing)\u001b[0m\n\u001b[1;32m   1627\u001b[0m           \u001b[0;32mfor\u001b[0m \u001b[0mstep\u001b[0m \u001b[0;32min\u001b[0m \u001b[0mdata_handler\u001b[0m\u001b[0;34m.\u001b[0m\u001b[0msteps\u001b[0m\u001b[0;34m(\u001b[0m\u001b[0;34m)\u001b[0m\u001b[0;34m:\u001b[0m\u001b[0;34m\u001b[0m\u001b[0;34m\u001b[0m\u001b[0m\n\u001b[1;32m   1628\u001b[0m             \u001b[0mcallbacks\u001b[0m\u001b[0;34m.\u001b[0m\u001b[0mon_predict_batch_begin\u001b[0m\u001b[0;34m(\u001b[0m\u001b[0mstep\u001b[0m\u001b[0;34m)\u001b[0m\u001b[0;34m\u001b[0m\u001b[0;34m\u001b[0m\u001b[0m\n\u001b[0;32m-> 1629\u001b[0;31m             \u001b[0mtmp_batch_outputs\u001b[0m \u001b[0;34m=\u001b[0m \u001b[0mself\u001b[0m\u001b[0;34m.\u001b[0m\u001b[0mpredict_function\u001b[0m\u001b[0;34m(\u001b[0m\u001b[0miterator\u001b[0m\u001b[0;34m)\u001b[0m\u001b[0;34m\u001b[0m\u001b[0;34m\u001b[0m\u001b[0m\n\u001b[0m\u001b[1;32m   1630\u001b[0m             \u001b[0;32mif\u001b[0m \u001b[0mdata_handler\u001b[0m\u001b[0;34m.\u001b[0m\u001b[0mshould_sync\u001b[0m\u001b[0;34m:\u001b[0m\u001b[0;34m\u001b[0m\u001b[0;34m\u001b[0m\u001b[0m\n\u001b[1;32m   1631\u001b[0m               \u001b[0mcontext\u001b[0m\u001b[0;34m.\u001b[0m\u001b[0masync_wait\u001b[0m\u001b[0;34m(\u001b[0m\u001b[0;34m)\u001b[0m\u001b[0;34m\u001b[0m\u001b[0;34m\u001b[0m\u001b[0m\n",
      "\u001b[0;32m/opt/conda/lib/python3.7/site-packages/tensorflow/python/eager/def_function.py\u001b[0m in \u001b[0;36m__call__\u001b[0;34m(self, *args, **kwds)\u001b[0m\n\u001b[1;32m    826\u001b[0m     \u001b[0mtracing_count\u001b[0m \u001b[0;34m=\u001b[0m \u001b[0mself\u001b[0m\u001b[0;34m.\u001b[0m\u001b[0mexperimental_get_tracing_count\u001b[0m\u001b[0;34m(\u001b[0m\u001b[0;34m)\u001b[0m\u001b[0;34m\u001b[0m\u001b[0;34m\u001b[0m\u001b[0m\n\u001b[1;32m    827\u001b[0m     \u001b[0;32mwith\u001b[0m \u001b[0mtrace\u001b[0m\u001b[0;34m.\u001b[0m\u001b[0mTrace\u001b[0m\u001b[0;34m(\u001b[0m\u001b[0mself\u001b[0m\u001b[0;34m.\u001b[0m\u001b[0m_name\u001b[0m\u001b[0;34m)\u001b[0m \u001b[0;32mas\u001b[0m \u001b[0mtm\u001b[0m\u001b[0;34m:\u001b[0m\u001b[0;34m\u001b[0m\u001b[0;34m\u001b[0m\u001b[0m\n\u001b[0;32m--> 828\u001b[0;31m       \u001b[0mresult\u001b[0m \u001b[0;34m=\u001b[0m \u001b[0mself\u001b[0m\u001b[0;34m.\u001b[0m\u001b[0m_call\u001b[0m\u001b[0;34m(\u001b[0m\u001b[0;34m*\u001b[0m\u001b[0margs\u001b[0m\u001b[0;34m,\u001b[0m \u001b[0;34m**\u001b[0m\u001b[0mkwds\u001b[0m\u001b[0;34m)\u001b[0m\u001b[0;34m\u001b[0m\u001b[0;34m\u001b[0m\u001b[0m\n\u001b[0m\u001b[1;32m    829\u001b[0m       \u001b[0mcompiler\u001b[0m \u001b[0;34m=\u001b[0m \u001b[0;34m\"xla\"\u001b[0m \u001b[0;32mif\u001b[0m \u001b[0mself\u001b[0m\u001b[0;34m.\u001b[0m\u001b[0m_experimental_compile\u001b[0m \u001b[0;32melse\u001b[0m \u001b[0;34m\"nonXla\"\u001b[0m\u001b[0;34m\u001b[0m\u001b[0;34m\u001b[0m\u001b[0m\n\u001b[1;32m    830\u001b[0m       \u001b[0mnew_tracing_count\u001b[0m \u001b[0;34m=\u001b[0m \u001b[0mself\u001b[0m\u001b[0;34m.\u001b[0m\u001b[0mexperimental_get_tracing_count\u001b[0m\u001b[0;34m(\u001b[0m\u001b[0;34m)\u001b[0m\u001b[0;34m\u001b[0m\u001b[0;34m\u001b[0m\u001b[0m\n",
      "\u001b[0;32m/opt/conda/lib/python3.7/site-packages/tensorflow/python/eager/def_function.py\u001b[0m in \u001b[0;36m_call\u001b[0;34m(self, *args, **kwds)\u001b[0m\n\u001b[1;32m    860\u001b[0m       \u001b[0;31m# In this case we have not created variables on the first call. So we can\u001b[0m\u001b[0;34m\u001b[0m\u001b[0;34m\u001b[0m\u001b[0;34m\u001b[0m\u001b[0m\n\u001b[1;32m    861\u001b[0m       \u001b[0;31m# run the first trace but we should fail if variables are created.\u001b[0m\u001b[0;34m\u001b[0m\u001b[0;34m\u001b[0m\u001b[0;34m\u001b[0m\u001b[0m\n\u001b[0;32m--> 862\u001b[0;31m       \u001b[0mresults\u001b[0m \u001b[0;34m=\u001b[0m \u001b[0mself\u001b[0m\u001b[0;34m.\u001b[0m\u001b[0m_stateful_fn\u001b[0m\u001b[0;34m(\u001b[0m\u001b[0;34m*\u001b[0m\u001b[0margs\u001b[0m\u001b[0;34m,\u001b[0m \u001b[0;34m**\u001b[0m\u001b[0mkwds\u001b[0m\u001b[0;34m)\u001b[0m\u001b[0;34m\u001b[0m\u001b[0;34m\u001b[0m\u001b[0m\n\u001b[0m\u001b[1;32m    863\u001b[0m       \u001b[0;32mif\u001b[0m \u001b[0mself\u001b[0m\u001b[0;34m.\u001b[0m\u001b[0m_created_variables\u001b[0m\u001b[0;34m:\u001b[0m\u001b[0;34m\u001b[0m\u001b[0;34m\u001b[0m\u001b[0m\n\u001b[1;32m    864\u001b[0m         raise ValueError(\"Creating variables on a non-first call to a function\"\n",
      "\u001b[0;32m/opt/conda/lib/python3.7/site-packages/tensorflow/python/eager/function.py\u001b[0m in \u001b[0;36m__call__\u001b[0;34m(self, *args, **kwargs)\u001b[0m\n\u001b[1;32m   2941\u001b[0m        filtered_flat_args) = self._maybe_define_function(args, kwargs)\n\u001b[1;32m   2942\u001b[0m     return graph_function._call_flat(\n\u001b[0;32m-> 2943\u001b[0;31m         filtered_flat_args, captured_inputs=graph_function.captured_inputs)  # pylint: disable=protected-access\n\u001b[0m\u001b[1;32m   2944\u001b[0m \u001b[0;34m\u001b[0m\u001b[0m\n\u001b[1;32m   2945\u001b[0m   \u001b[0;34m@\u001b[0m\u001b[0mproperty\u001b[0m\u001b[0;34m\u001b[0m\u001b[0;34m\u001b[0m\u001b[0m\n",
      "\u001b[0;32m/opt/conda/lib/python3.7/site-packages/tensorflow/python/eager/function.py\u001b[0m in \u001b[0;36m_call_flat\u001b[0;34m(self, args, captured_inputs, cancellation_manager)\u001b[0m\n\u001b[1;32m   1917\u001b[0m       \u001b[0;31m# No tape is watching; skip to running the function.\u001b[0m\u001b[0;34m\u001b[0m\u001b[0;34m\u001b[0m\u001b[0;34m\u001b[0m\u001b[0m\n\u001b[1;32m   1918\u001b[0m       return self._build_call_outputs(self._inference_function.call(\n\u001b[0;32m-> 1919\u001b[0;31m           ctx, args, cancellation_manager=cancellation_manager))\n\u001b[0m\u001b[1;32m   1920\u001b[0m     forward_backward = self._select_forward_and_backward_functions(\n\u001b[1;32m   1921\u001b[0m         \u001b[0margs\u001b[0m\u001b[0;34m,\u001b[0m\u001b[0;34m\u001b[0m\u001b[0;34m\u001b[0m\u001b[0m\n",
      "\u001b[0;32m/opt/conda/lib/python3.7/site-packages/tensorflow/python/eager/function.py\u001b[0m in \u001b[0;36mcall\u001b[0;34m(self, ctx, args, cancellation_manager)\u001b[0m\n\u001b[1;32m    558\u001b[0m               \u001b[0minputs\u001b[0m\u001b[0;34m=\u001b[0m\u001b[0margs\u001b[0m\u001b[0;34m,\u001b[0m\u001b[0;34m\u001b[0m\u001b[0;34m\u001b[0m\u001b[0m\n\u001b[1;32m    559\u001b[0m               \u001b[0mattrs\u001b[0m\u001b[0;34m=\u001b[0m\u001b[0mattrs\u001b[0m\u001b[0;34m,\u001b[0m\u001b[0;34m\u001b[0m\u001b[0;34m\u001b[0m\u001b[0m\n\u001b[0;32m--> 560\u001b[0;31m               ctx=ctx)\n\u001b[0m\u001b[1;32m    561\u001b[0m         \u001b[0;32melse\u001b[0m\u001b[0;34m:\u001b[0m\u001b[0;34m\u001b[0m\u001b[0;34m\u001b[0m\u001b[0m\n\u001b[1;32m    562\u001b[0m           outputs = execute.execute_with_cancellation(\n",
      "\u001b[0;32m/opt/conda/lib/python3.7/site-packages/tensorflow/python/eager/execute.py\u001b[0m in \u001b[0;36mquick_execute\u001b[0;34m(op_name, num_outputs, inputs, attrs, ctx, name)\u001b[0m\n\u001b[1;32m     58\u001b[0m     \u001b[0mctx\u001b[0m\u001b[0;34m.\u001b[0m\u001b[0mensure_initialized\u001b[0m\u001b[0;34m(\u001b[0m\u001b[0;34m)\u001b[0m\u001b[0;34m\u001b[0m\u001b[0;34m\u001b[0m\u001b[0m\n\u001b[1;32m     59\u001b[0m     tensors = pywrap_tfe.TFE_Py_Execute(ctx._handle, device_name, op_name,\n\u001b[0;32m---> 60\u001b[0;31m                                         inputs, attrs, num_outputs)\n\u001b[0m\u001b[1;32m     61\u001b[0m   \u001b[0;32mexcept\u001b[0m \u001b[0mcore\u001b[0m\u001b[0;34m.\u001b[0m\u001b[0m_NotOkStatusException\u001b[0m \u001b[0;32mas\u001b[0m \u001b[0me\u001b[0m\u001b[0;34m:\u001b[0m\u001b[0;34m\u001b[0m\u001b[0;34m\u001b[0m\u001b[0m\n\u001b[1;32m     62\u001b[0m     \u001b[0;32mif\u001b[0m \u001b[0mname\u001b[0m \u001b[0;32mis\u001b[0m \u001b[0;32mnot\u001b[0m \u001b[0;32mNone\u001b[0m\u001b[0;34m:\u001b[0m\u001b[0;34m\u001b[0m\u001b[0;34m\u001b[0m\u001b[0m\n",
      "\u001b[0;31mKeyboardInterrupt\u001b[0m: "
     ]
    }
   ],
   "source": [
    "dset = tqdm(enumerate(generator),total=len(generator),position=0, leave=True)\n",
    "dset.set_description('Loading_test')\n",
    "all_results = {}\n",
    "for i,sample in dset:\n",
    "    #if i > 2:\n",
    "    #    break\n",
    "    filtered_images = stage_one.infer(sample)\n",
    "    print(np.array(filtered_images['FLAIR']['images']).shape)"
   ]
  },
  {
   "cell_type": "code",
   "execution_count": null,
   "metadata": {
    "collapsed": true,
    "execution": {
     "iopub.execute_input": "2021-10-12T13:22:39.842606Z",
     "iopub.status.busy": "2021-10-12T13:22:39.842315Z",
     "iopub.status.idle": "2021-10-12T13:23:02.223448Z",
     "shell.execute_reply": "2021-10-12T13:23:02.222657Z",
     "shell.execute_reply.started": "2021-10-12T13:22:39.84258Z"
    },
    "jupyter": {
     "outputs_hidden": true
    }
   },
   "outputs": [],
   "source": [
    "for i in filtered_images['FLAIR']['images'][0]:\n",
    "    plt.imshow(i,cmap='gray')\n",
    "    plt.show()"
   ]
  },
  {
   "cell_type": "code",
   "execution_count": null,
   "metadata": {
    "execution": {
     "iopub.execute_input": "2021-10-12T13:09:44.966009Z",
     "iopub.status.busy": "2021-10-12T13:09:44.965732Z",
     "iopub.status.idle": "2021-10-12T13:09:44.9713Z",
     "shell.execute_reply": "2021-10-12T13:09:44.970548Z",
     "shell.execute_reply.started": "2021-10-12T13:09:44.965981Z"
    }
   },
   "outputs": [],
   "source": [
    "sample['FLAIR']['images'][0].shape"
   ]
  },
  {
   "cell_type": "code",
   "execution_count": null,
   "metadata": {},
   "outputs": [],
   "source": []
  }
 ],
 "metadata": {
  "kernelspec": {
   "display_name": "Python 3",
   "language": "python",
   "name": "python3"
  },
  "language_info": {
   "codemirror_mode": {
    "name": "ipython",
    "version": 3
   },
   "file_extension": ".py",
   "mimetype": "text/x-python",
   "name": "python",
   "nbconvert_exporter": "python",
   "pygments_lexer": "ipython3",
   "version": "3.6.1"
  }
 },
 "nbformat": 4,
 "nbformat_minor": 4
}
